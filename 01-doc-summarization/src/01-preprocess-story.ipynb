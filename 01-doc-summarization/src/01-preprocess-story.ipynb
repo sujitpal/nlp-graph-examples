{
 "cells": [
  {
   "cell_type": "markdown",
   "metadata": {},
   "source": [
    "## Preprocess Story Files\n",
    "\n",
    "Data comes from the [DeepMind Question Answering Dataset](https://cs.nyu.edu/~kcho/DMQA/) consisting of CNN News Stories. Each story is packaged as a `.story` file in the dataset. A `.story` file consists of paragraphs of text for the story, followed by multiple manually created highlight phrases/sentences preceded by the `@highlight` annotation.\n",
    "\n",
    "The story file in our example [looks like this](../data/be8fc9fffd65a5a38153e83acc304a83c2e206e1.story).\n",
    "\n",
    "In this notebook, we will convert a specified `.story` file to two separate files -- one containing the sentences of the story text, one sentence per line, called `sentences.txt`, and another containing the lines of the highlights, called `summary.txt`."
   ]
  },
  {
   "cell_type": "code",
   "execution_count": 1,
   "metadata": {},
   "outputs": [],
   "source": [
    "import os\n",
    "import pandas as pd\n",
    "import spacy"
   ]
  },
  {
   "cell_type": "code",
   "execution_count": 2,
   "metadata": {},
   "outputs": [],
   "source": [
    "STORY_FILE = \"be8fc9fffd65a5a38153e83acc304a83c2e206e1.story\"\n",
    "\n",
    "DATA_DIR = \"../data\"\n",
    "STORY_PATH = os.path.join(DATA_DIR, STORY_FILE)\n",
    "SENTENCE_PATH = os.path.join(DATA_DIR, \"sentences.txt\")\n",
    "SUMMARY_PATH = os.path.join(DATA_DIR, \"summary.txt\")"
   ]
  },
  {
   "cell_type": "markdown",
   "metadata": {},
   "source": [
    "### Preprocess\n",
    "\n",
    "We will use the sentence tokenizer from Spacy to tokenize input paragraph text into sentences.\n",
    "\n",
    "The `@highlight` annotations are at the end of the file, so when we see the first one, we set a flag and start writing exclusively to the summary file."
   ]
  },
  {
   "cell_type": "code",
   "execution_count": 3,
   "metadata": {},
   "outputs": [],
   "source": [
    "nlp = spacy.load('en_core_web_sm')\n",
    "sent_tokenizer = nlp.create_pipe(\"sentencizer\")\n",
    "nlp.add_pipe(sent_tokenizer)"
   ]
  },
  {
   "cell_type": "code",
   "execution_count": 4,
   "metadata": {},
   "outputs": [],
   "source": [
    "def tokenize_to_sentences(line, nlp):\n",
    "    doc = nlp(line)\n",
    "    return [s.string for s in doc.sents]"
   ]
  },
  {
   "cell_type": "code",
   "execution_count": 5,
   "metadata": {},
   "outputs": [],
   "source": [
    "fstories = open(STORY_PATH, \"r\")\n",
    "fsentences = open(SENTENCE_PATH, \"w\")\n",
    "fsummary = open(SUMMARY_PATH, \"w\")\n",
    "\n",
    "start_summary = False\n",
    "\n",
    "for line in fstories:\n",
    "    line = line.strip()\n",
    "    if len(line) == 0:\n",
    "        continue\n",
    "    if line.startswith(\"@highlight\"):\n",
    "        start_summary = True\n",
    "        continue\n",
    "    if start_summary:\n",
    "        fsummary.write(line + \"\\n\")\n",
    "    else:\n",
    "        sents = tokenize_to_sentences(line, nlp)\n",
    "        for sent in sents:\n",
    "            fsentences.write(sent + \"\\n\")\n",
    "\n",
    "fsentences.close()\n",
    "fsummary.close()\n",
    "fstories.close()"
   ]
  },
  {
   "cell_type": "markdown",
   "metadata": {},
   "source": [
    "### Output files\n",
    "\n",
    "The `sentences.txt` file is just a running list of sentences extracted from the article, one sentence per line. Here is a sample."
   ]
  },
  {
   "cell_type": "code",
   "execution_count": 6,
   "metadata": {},
   "outputs": [
    {
     "data": {
      "text/html": [
       "<div>\n",
       "<style scoped>\n",
       "    .dataframe tbody tr th:only-of-type {\n",
       "        vertical-align: middle;\n",
       "    }\n",
       "\n",
       "    .dataframe tbody tr th {\n",
       "        vertical-align: top;\n",
       "    }\n",
       "\n",
       "    .dataframe thead th {\n",
       "        text-align: right;\n",
       "    }\n",
       "</style>\n",
       "<table border=\"1\" class=\"dataframe\">\n",
       "  <thead>\n",
       "    <tr style=\"text-align: right;\">\n",
       "      <th></th>\n",
       "      <th>sentence</th>\n",
       "    </tr>\n",
       "  </thead>\n",
       "  <tbody>\n",
       "    <tr>\n",
       "      <th>0</th>\n",
       "      <td>(CNN) -- Beef from Brazil is on Iranian dinner tables.</td>\n",
       "    </tr>\n",
       "    <tr>\n",
       "      <th>1</th>\n",
       "      <td>An Iranian-built hospital treats patients near Bolivia's capital.</td>\n",
       "    </tr>\n",
       "    <tr>\n",
       "      <th>2</th>\n",
       "      <td>Iranian-funded factories dot the Venezuelan countryside.</td>\n",
       "    </tr>\n",
       "    <tr>\n",
       "      <th>3</th>\n",
       "      <td>Iran has forged hundreds of agreements with Latin American nations and pledged billions of dollars to fund them.</td>\n",
       "    </tr>\n",
       "    <tr>\n",
       "      <th>4</th>\n",
       "      <td>More deals could be in store this week as Iranian President Mahmoud Ahmadinejad embarks on a trip that starts in Venezuela on Sunday and includes stops in N...</td>\n",
       "    </tr>\n",
       "  </tbody>\n",
       "</table>\n",
       "</div>"
      ],
      "text/plain": [
       "                                                                                                                                                          sentence\n",
       "0                                                                                                          (CNN) -- Beef from Brazil is on Iranian dinner tables. \n",
       "1                                                                                               An Iranian-built hospital treats patients near Bolivia's capital. \n",
       "2                                                                                                         Iranian-funded factories dot the Venezuelan countryside.\n",
       "3                                                 Iran has forged hundreds of agreements with Latin American nations and pledged billions of dollars to fund them.\n",
       "4  More deals could be in store this week as Iranian President Mahmoud Ahmadinejad embarks on a trip that starts in Venezuela on Sunday and includes stops in N..."
      ]
     },
     "execution_count": 6,
     "metadata": {},
     "output_type": "execute_result"
    }
   ],
   "source": [
    "pd.set_option(\"display.max_colwidth\", 160)\n",
    "sentences_df = pd.read_csv(SENTENCE_PATH, delimiter='\\t', \n",
    "                           names=[\"sentence\"])\n",
    "sentences_df.head()"
   ]
  },
  {
   "cell_type": "markdown",
   "metadata": {},
   "source": [
    "The `summary.txt` file contains the sentences marked up with the `@highlight` annotation. Here is a sample."
   ]
  },
  {
   "cell_type": "code",
   "execution_count": 7,
   "metadata": {},
   "outputs": [
    {
     "data": {
      "text/html": [
       "<div>\n",
       "<style scoped>\n",
       "    .dataframe tbody tr th:only-of-type {\n",
       "        vertical-align: middle;\n",
       "    }\n",
       "\n",
       "    .dataframe tbody tr th {\n",
       "        vertical-align: top;\n",
       "    }\n",
       "\n",
       "    .dataframe thead th {\n",
       "        text-align: right;\n",
       "    }\n",
       "</style>\n",
       "<table border=\"1\" class=\"dataframe\">\n",
       "  <thead>\n",
       "    <tr style=\"text-align: right;\">\n",
       "      <th></th>\n",
       "      <th>sentence</th>\n",
       "    </tr>\n",
       "  </thead>\n",
       "  <tbody>\n",
       "    <tr>\n",
       "      <th>0</th>\n",
       "      <td>President Mahmoud Ahmadinejad begins a four-nation Latin America tour</td>\n",
       "    </tr>\n",
       "    <tr>\n",
       "      <th>1</th>\n",
       "      <td>The trip is the latest step in a longstanding effort to shore up support in the region</td>\n",
       "    </tr>\n",
       "    <tr>\n",
       "      <th>2</th>\n",
       "      <td>Analyst: \"Iran has an extremely active diplomatic move afoot\"</td>\n",
       "    </tr>\n",
       "    <tr>\n",
       "      <th>3</th>\n",
       "      <td>Iran recently launched a Spanish-language television network</td>\n",
       "    </tr>\n",
       "  </tbody>\n",
       "</table>\n",
       "</div>"
      ],
      "text/plain": [
       "                                                                                 sentence\n",
       "0                   President Mahmoud Ahmadinejad begins a four-nation Latin America tour\n",
       "1  The trip is the latest step in a longstanding effort to shore up support in the region\n",
       "2                           Analyst: \"Iran has an extremely active diplomatic move afoot\"\n",
       "3                            Iran recently launched a Spanish-language television network"
      ]
     },
     "execution_count": 7,
     "metadata": {},
     "output_type": "execute_result"
    }
   ],
   "source": [
    "summary_df = pd.read_csv(SUMMARY_PATH, delimiter='\\t', names=[\"sentence\"])\n",
    "summary_df.head()"
   ]
  },
  {
   "cell_type": "code",
   "execution_count": null,
   "metadata": {},
   "outputs": [],
   "source": []
  }
 ],
 "metadata": {
  "kernelspec": {
   "display_name": "Python 3",
   "language": "python",
   "name": "python3"
  },
  "language_info": {
   "codemirror_mode": {
    "name": "ipython",
    "version": 3
   },
   "file_extension": ".py",
   "mimetype": "text/x-python",
   "name": "python",
   "nbconvert_exporter": "python",
   "pygments_lexer": "ipython3",
   "version": "3.6.7"
  }
 },
 "nbformat": 4,
 "nbformat_minor": 2
}
