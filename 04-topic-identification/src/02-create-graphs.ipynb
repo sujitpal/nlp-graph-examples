{
 "cells": [
  {
   "cell_type": "markdown",
   "metadata": {},
   "source": [
    "## Create Graphs\n",
    "\n",
    "This notebook uses the provided CSV files to build the node and edge CSV files for two separate Neo4j graphs, in the format the `neo4j-admin` tool expects.\n",
    "\n",
    "Both graphs use the same `nodes.csv` file. The first graph will have only edges that are not parent-child relationships (since we don't want our Personalized PageRank to be influenced by these relationships), and the second graph contains `isChildOf` relationships (since we will be using this graph to rollup concepts into categories). They are represented by edge files called `redges.csv` and `pedges.csv` respectively.\n",
    "\n",
    "These files will be used to populate Neo4j graphs using the following command pattern.\n",
    "\n",
    "    neo4j-admin import \\\n",
    "        --nodes=/path/to/nodes.csv \\\n",
    "        --relationships=/path/to/edges.csv\n"
   ]
  },
  {
   "cell_type": "code",
   "execution_count": 1,
   "metadata": {},
   "outputs": [],
   "source": [
    "import os\n",
    "import pandas as pd"
   ]
  },
  {
   "cell_type": "code",
   "execution_count": 2,
   "metadata": {},
   "outputs": [],
   "source": [
    "DATA_DIR = \"../data\"\n",
    "\n",
    "# TSV dumps from knowledge graph (provided)\n",
    "KG_NODES_FILEPATH = os.path.join(DATA_DIR, \"emmet-vertices.tsv\")\n",
    "KG_EDGES_FILEPATH = os.path.join(DATA_DIR, \"emmet-edges.tsv\")\n",
    "\n",
    "# neo4j-admin import compatible node and relationship files (outputs)\n",
    "NEO4J_NODES_FILEPATH = os.path.join(DATA_DIR, \"neo4j-nodes.tsv\")\n",
    "NEO4J_RELS_FILEPATH = os.path.join(DATA_DIR, \"neo4j-redges.tsv\")\n",
    "NEO4J_PARENT_FILEPATH = os.path.join(DATA_DIR, \"neo4j-pedges.tsv\")"
   ]
  },
  {
   "cell_type": "markdown",
   "metadata": {},
   "source": [
    "### Write out Nodes\n",
    "\n",
    "As with the annotation, we extract all concepts except those of class qualifier or event."
   ]
  },
  {
   "cell_type": "code",
   "execution_count": 3,
   "metadata": {},
   "outputs": [
    {
     "name": "stdout",
     "output_type": "stream",
     "text": [
      "0 nodes processed\n",
      "100000 nodes processed\n",
      "200000 nodes processed\n",
      "300000 nodes processed\n",
      "400000 nodes processed\n",
      "500000 nodes processed\n",
      "570639 nodes processed, COMPLETE\n"
     ]
    }
   ],
   "source": [
    "valid_nodes = set()\n",
    "num_nodes = 0\n",
    "\n",
    "fnodes_neo = open(NEO4J_NODES_FILEPATH, \"w\")\n",
    "fnodes_neo.write(\"cid:ID,:LABEL\\n\")\n",
    "\n",
    "fnodes_kg = open(KG_NODES_FILEPATH, \"r\")\n",
    "for line in fnodes_kg:\n",
    "    if num_nodes % 100000 == 0:\n",
    "        print(\"{:d} nodes processed\".format(num_nodes))\n",
    "    cols = line.strip().split('\\t')\n",
    "    if len(cols) != 5:\n",
    "        continue\n",
    "    cid, syns, codes, stycodes, stygrps = cols\n",
    "    if stygrps == \"qualifier\" or stygrps == \"event\":\n",
    "        continue\n",
    "    fnodes_neo.write(\"{:s},Concept\\n\".format(cid))\n",
    "    valid_nodes.add(cid)\n",
    "    num_nodes += 1\n",
    "\n",
    "print(\"{:d} nodes processed, COMPLETE\".format(num_nodes))\n",
    "fnodes_kg.close()\n",
    "fnodes_neo.close()"
   ]
  },
  {
   "cell_type": "code",
   "execution_count": 4,
   "metadata": {},
   "outputs": [
    {
     "data": {
      "text/html": [
       "<div>\n",
       "<style scoped>\n",
       "    .dataframe tbody tr th:only-of-type {\n",
       "        vertical-align: middle;\n",
       "    }\n",
       "\n",
       "    .dataframe tbody tr th {\n",
       "        vertical-align: top;\n",
       "    }\n",
       "\n",
       "    .dataframe thead th {\n",
       "        text-align: right;\n",
       "    }\n",
       "</style>\n",
       "<table border=\"1\" class=\"dataframe\">\n",
       "  <thead>\n",
       "    <tr style=\"text-align: right;\">\n",
       "      <th></th>\n",
       "      <th>cid:ID</th>\n",
       "      <th>:LABEL</th>\n",
       "    </tr>\n",
       "  </thead>\n",
       "  <tbody>\n",
       "    <tr>\n",
       "      <th>0</th>\n",
       "      <td>8247637</td>\n",
       "      <td>Concept</td>\n",
       "    </tr>\n",
       "    <tr>\n",
       "      <th>1</th>\n",
       "      <td>8247638</td>\n",
       "      <td>Concept</td>\n",
       "    </tr>\n",
       "    <tr>\n",
       "      <th>2</th>\n",
       "      <td>8247640</td>\n",
       "      <td>Concept</td>\n",
       "    </tr>\n",
       "    <tr>\n",
       "      <th>3</th>\n",
       "      <td>8247641</td>\n",
       "      <td>Concept</td>\n",
       "    </tr>\n",
       "    <tr>\n",
       "      <th>4</th>\n",
       "      <td>8247642</td>\n",
       "      <td>Concept</td>\n",
       "    </tr>\n",
       "  </tbody>\n",
       "</table>\n",
       "</div>"
      ],
      "text/plain": [
       "    cid:ID   :LABEL\n",
       "0  8247637  Concept\n",
       "1  8247638  Concept\n",
       "2  8247640  Concept\n",
       "3  8247641  Concept\n",
       "4  8247642  Concept"
      ]
     },
     "execution_count": 4,
     "metadata": {},
     "output_type": "execute_result"
    }
   ],
   "source": [
    "nodes_df = pd.read_csv(NEO4J_NODES_FILEPATH)\n",
    "nodes_df.head()"
   ]
  },
  {
   "cell_type": "markdown",
   "metadata": {},
   "source": [
    "### Write out Relationships\n",
    "\n",
    "We want to write out one set of relationships that are all except `IsParentOf` and `isChildOf`, and the other that is only `isChildOf`. We also only consider edges whose weights are greater than 7.0 (weights are on a 10 point scale).\n",
    "\n",
    "Further, for the first graph, we aggregate multiple relationships into a single one since our PPR (and PageRank as well) function on a single relationship, and we want to find high pagerank nodes across all relationships. So this is done in two steps.\n",
    "\n",
    "In the first step, we filter out edges which are not in our node list, and whose weights are 7.0 and below. We accumulate the weights for same (source, destination) pairs across multiple relationships where applicable, and finally we write them out into two distinct files."
   ]
  },
  {
   "cell_type": "code",
   "execution_count": 5,
   "metadata": {},
   "outputs": [],
   "source": [
    "rel_dict, parent_dict = {}, {}\n",
    "num_edges, num_rel_edges, num_parent_edges = 0, 0, 0"
   ]
  },
  {
   "cell_type": "code",
   "execution_count": 6,
   "metadata": {},
   "outputs": [
    {
     "name": "stdout",
     "output_type": "stream",
     "text": [
      "0 edges (0 parent, 0 rel) processed\n",
      "0 edges (0 parent, 0 rel) processed\n",
      "500000 edges (470680 parent, 29320 rel) processed\n",
      "500000 edges (470680 parent, 29320 rel) processed\n",
      "500000 edges (470680 parent, 29320 rel) processed\n",
      "1000000 edges (946771 parent, 53229 rel) processed\n",
      "1000000 edges (946771 parent, 53229 rel) processed\n",
      "1397470 edges (1316373 parent, 81097 rel) processed, COMPLETE\n"
     ]
    }
   ],
   "source": [
    "fedges_kg = open(KG_EDGES_FILEPATH, \"r\")\n",
    "for line in fedges_kg:\n",
    "    # print(line)\n",
    "    if num_edges % 500000 == 0:\n",
    "        print(\"{:d} edges ({:d} parent, {:d} rel) processed\".format(\n",
    "            num_edges, num_parent_edges, num_rel_edges))\n",
    "    src, rel, dst, weight = line.strip().split('\\t')\n",
    "    weight = float(weight)\n",
    "    if weight < 7.0:\n",
    "        # remove low weights\n",
    "        continue\n",
    "    if src not in valid_nodes or dst not in valid_nodes:\n",
    "        # remove edges connecting an invalid node (discarded earlier)\n",
    "        continue\n",
    "    if rel == \"IsParentOf\":\n",
    "        # we discard this regardless\n",
    "        continue\n",
    "    key = (src, dst)\n",
    "    if rel == \"IsChildOf\":\n",
    "        # any other relationship\n",
    "        if key in parent_dict.keys():\n",
    "            parent_dict[key] += weight\n",
    "        else:\n",
    "            parent_dict[key] = weight\n",
    "        num_parent_edges += 1\n",
    "    else:\n",
    "        # parent-child relationship\n",
    "        if key in rel_dict.keys():\n",
    "            rel_dict[key] += weight\n",
    "        else:\n",
    "            rel_dict[key] = weight\n",
    "        num_rel_edges += 1\n",
    "    num_edges += 1\n",
    "    \n",
    "print(\"{:d} edges ({:d} parent, {:d} rel) processed, COMPLETE\".format(\n",
    "    num_edges, num_parent_edges, num_rel_edges))\n",
    "fedges_kg.close()"
   ]
  },
  {
   "cell_type": "markdown",
   "metadata": {},
   "source": [
    "### Aggregated Relationship Edges"
   ]
  },
  {
   "cell_type": "code",
   "execution_count": 7,
   "metadata": {},
   "outputs": [
    {
     "name": "stdout",
     "output_type": "stream",
     "text": [
      "number of relation edges: 79859\n"
     ]
    }
   ],
   "source": [
    "num_rel_edges = 0\n",
    "fedges_neo_r = open(NEO4J_RELS_FILEPATH, \"w\")\n",
    "fedges_neo_r.write(\":START_ID,weight:float,:END_ID,:TYPE\\n\")\n",
    "for key in rel_dict.keys():\n",
    "    weight = rel_dict[key]\n",
    "    src, dst = key\n",
    "    fedges_neo_r.write(\"{:s},{:.1f},{:s},REL\\n\".format(src, weight, dst))\n",
    "    num_rel_edges += 1\n",
    "fedges_neo_r.close()\n",
    "print(\"number of relation edges: {:d}\".format(num_rel_edges))"
   ]
  },
  {
   "cell_type": "code",
   "execution_count": 8,
   "metadata": {},
   "outputs": [
    {
     "data": {
      "text/html": [
       "<div>\n",
       "<style scoped>\n",
       "    .dataframe tbody tr th:only-of-type {\n",
       "        vertical-align: middle;\n",
       "    }\n",
       "\n",
       "    .dataframe tbody tr th {\n",
       "        vertical-align: top;\n",
       "    }\n",
       "\n",
       "    .dataframe thead th {\n",
       "        text-align: right;\n",
       "    }\n",
       "</style>\n",
       "<table border=\"1\" class=\"dataframe\">\n",
       "  <thead>\n",
       "    <tr style=\"text-align: right;\">\n",
       "      <th></th>\n",
       "      <th>:START_ID</th>\n",
       "      <th>weight:float</th>\n",
       "      <th>:END_ID</th>\n",
       "      <th>:TYPE</th>\n",
       "    </tr>\n",
       "  </thead>\n",
       "  <tbody>\n",
       "    <tr>\n",
       "      <th>0</th>\n",
       "      <td>8247673</td>\n",
       "      <td>8.0</td>\n",
       "      <td>2791353</td>\n",
       "      <td>REL</td>\n",
       "    </tr>\n",
       "    <tr>\n",
       "      <th>1</th>\n",
       "      <td>8247673</td>\n",
       "      <td>8.0</td>\n",
       "      <td>5348908</td>\n",
       "      <td>REL</td>\n",
       "    </tr>\n",
       "    <tr>\n",
       "      <th>2</th>\n",
       "      <td>8247690</td>\n",
       "      <td>10.0</td>\n",
       "      <td>8121429</td>\n",
       "      <td>REL</td>\n",
       "    </tr>\n",
       "    <tr>\n",
       "      <th>3</th>\n",
       "      <td>8247690</td>\n",
       "      <td>8.0</td>\n",
       "      <td>8881721</td>\n",
       "      <td>REL</td>\n",
       "    </tr>\n",
       "    <tr>\n",
       "      <th>4</th>\n",
       "      <td>8247690</td>\n",
       "      <td>8.0</td>\n",
       "      <td>8921489</td>\n",
       "      <td>REL</td>\n",
       "    </tr>\n",
       "  </tbody>\n",
       "</table>\n",
       "</div>"
      ],
      "text/plain": [
       "   :START_ID  weight:float  :END_ID :TYPE\n",
       "0    8247673           8.0  2791353   REL\n",
       "1    8247673           8.0  5348908   REL\n",
       "2    8247690          10.0  8121429   REL\n",
       "3    8247690           8.0  8881721   REL\n",
       "4    8247690           8.0  8921489   REL"
      ]
     },
     "execution_count": 8,
     "metadata": {},
     "output_type": "execute_result"
    }
   ],
   "source": [
    "redges_df = pd.read_csv(NEO4J_RELS_FILEPATH)\n",
    "redges_df.head()"
   ]
  },
  {
   "cell_type": "markdown",
   "metadata": {},
   "source": [
    "### Aggregated Parent edges"
   ]
  },
  {
   "cell_type": "code",
   "execution_count": 9,
   "metadata": {},
   "outputs": [
    {
     "name": "stdout",
     "output_type": "stream",
     "text": [
      "number of parent edges: 720877\n"
     ]
    }
   ],
   "source": [
    "num_parent_edges = 0\n",
    "fedges_neo_p = open(NEO4J_PARENT_FILEPATH, \"w\")\n",
    "fedges_neo_p.write(\":START_ID,weight:float,:END_ID,:TYPE\\n\")\n",
    "for key in parent_dict.keys():\n",
    "    weight = parent_dict[key]\n",
    "    src, dst = key\n",
    "    fedges_neo_p.write(\"{:s},{:.1f},{:s},REL\\n\".format(src, weight, dst))\n",
    "    num_parent_edges += 1\n",
    "fedges_neo_p.close()\n",
    "print(\"number of parent edges: {:d}\".format(num_parent_edges))"
   ]
  },
  {
   "cell_type": "code",
   "execution_count": 10,
   "metadata": {},
   "outputs": [
    {
     "data": {
      "text/html": [
       "<div>\n",
       "<style scoped>\n",
       "    .dataframe tbody tr th:only-of-type {\n",
       "        vertical-align: middle;\n",
       "    }\n",
       "\n",
       "    .dataframe tbody tr th {\n",
       "        vertical-align: top;\n",
       "    }\n",
       "\n",
       "    .dataframe thead th {\n",
       "        text-align: right;\n",
       "    }\n",
       "</style>\n",
       "<table border=\"1\" class=\"dataframe\">\n",
       "  <thead>\n",
       "    <tr style=\"text-align: right;\">\n",
       "      <th></th>\n",
       "      <th>:START_ID</th>\n",
       "      <th>weight:float</th>\n",
       "      <th>:END_ID</th>\n",
       "      <th>:TYPE</th>\n",
       "    </tr>\n",
       "  </thead>\n",
       "  <tbody>\n",
       "    <tr>\n",
       "      <th>0</th>\n",
       "      <td>8247637</td>\n",
       "      <td>20.0</td>\n",
       "      <td>8237638</td>\n",
       "      <td>REL</td>\n",
       "    </tr>\n",
       "    <tr>\n",
       "      <th>1</th>\n",
       "      <td>8247638</td>\n",
       "      <td>20.0</td>\n",
       "      <td>8237638</td>\n",
       "      <td>REL</td>\n",
       "    </tr>\n",
       "    <tr>\n",
       "      <th>2</th>\n",
       "      <td>8242678</td>\n",
       "      <td>20.0</td>\n",
       "      <td>8247638</td>\n",
       "      <td>REL</td>\n",
       "    </tr>\n",
       "    <tr>\n",
       "      <th>3</th>\n",
       "      <td>8247640</td>\n",
       "      <td>20.0</td>\n",
       "      <td>3814900</td>\n",
       "      <td>REL</td>\n",
       "    </tr>\n",
       "    <tr>\n",
       "      <th>4</th>\n",
       "      <td>8247640</td>\n",
       "      <td>20.0</td>\n",
       "      <td>3816314</td>\n",
       "      <td>REL</td>\n",
       "    </tr>\n",
       "  </tbody>\n",
       "</table>\n",
       "</div>"
      ],
      "text/plain": [
       "   :START_ID  weight:float  :END_ID :TYPE\n",
       "0    8247637          20.0  8237638   REL\n",
       "1    8247638          20.0  8237638   REL\n",
       "2    8242678          20.0  8247638   REL\n",
       "3    8247640          20.0  3814900   REL\n",
       "4    8247640          20.0  3816314   REL"
      ]
     },
     "execution_count": 10,
     "metadata": {},
     "output_type": "execute_result"
    }
   ],
   "source": [
    "pedges_df = pd.read_csv(NEO4J_PARENT_FILEPATH)\n",
    "pedges_df.head()"
   ]
  },
  {
   "cell_type": "code",
   "execution_count": null,
   "metadata": {},
   "outputs": [],
   "source": []
  }
 ],
 "metadata": {
  "kernelspec": {
   "display_name": "Python 3",
   "language": "python",
   "name": "python3"
  },
  "language_info": {
   "codemirror_mode": {
    "name": "ipython",
    "version": 3
   },
   "file_extension": ".py",
   "mimetype": "text/x-python",
   "name": "python",
   "nbconvert_exporter": "python",
   "pygments_lexer": "ipython3",
   "version": "3.6.8"
  }
 },
 "nbformat": 4,
 "nbformat_minor": 2
}
