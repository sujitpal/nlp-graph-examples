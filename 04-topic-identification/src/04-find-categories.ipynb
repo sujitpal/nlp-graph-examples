{
 "cells": [
  {
   "cell_type": "markdown",
   "metadata": {},
   "source": [
    "## Find Categories\n",
    "\n",
    "This is somewhat dependent on the structure of the KG used. In the original paper, the KG was based on Wikipedia, where there is a parallel hierarchy of categories.\n",
    "\n",
    "In the case of the KG used in this project, there is a \"magic\" concept representing disease (CID:`2795416`) whose children are the various high level disease categories. So the objective is to navigate from each node detected via the annotation or PPR to one of the disease category concepts if possible.\n",
    "\n",
    "In this notebook, we will compute the categories from the original annotations and the top PPR predictions for each article."
   ]
  },
  {
   "cell_type": "code",
   "execution_count": 1,
   "metadata": {},
   "outputs": [],
   "source": [
    "import py2neo\n",
    "import os"
   ]
  },
  {
   "cell_type": "code",
   "execution_count": 2,
   "metadata": {},
   "outputs": [],
   "source": [
    "DATA_DIR = \"../data\"\n",
    "KG_VERTICES_FILEPATH = os.path.join(DATA_DIR, \"emmet-vertices.tsv\")\n",
    "ST_CONCEPTS_FILEPATH = os.path.join(DATA_DIR, \"story-concepts.tsv\")\n",
    "PP_CONCEPTS_FILEPATH = os.path.join(DATA_DIR, \"story-ppr-concepts.tsv\")\n",
    "\n",
    "NEO4J_CONN_URL = \"bolt://localhost:7687\"\n",
    "\n",
    "# magic node id, below this are all the disease classes (categories)\n",
    "DISEASE_CID = \"2795416\""
   ]
  },
  {
   "cell_type": "code",
   "execution_count": 3,
   "metadata": {},
   "outputs": [],
   "source": [
    "graph = py2neo.Graph(NEO4J_CONN_URL, auth=(\"neo4j\", \"graph\"))"
   ]
  },
  {
   "cell_type": "markdown",
   "metadata": {},
   "source": [
    "### Build CID to Name Mapping\n",
    "\n",
    "The `build_cid_name_mapping` function produces a dictionary that maps the CID to the primary name for the concept. This is needed for display purposes."
   ]
  },
  {
   "cell_type": "code",
   "execution_count": 4,
   "metadata": {},
   "outputs": [
    {
     "name": "stdout",
     "output_type": "stream",
     "text": [
      "2795416 disease\n"
     ]
    }
   ],
   "source": [
    "def build_cid_name_mapping(vertices_filepath):\n",
    "    cid2name = {}\n",
    "    fvert = open(vertices_filepath, \"r\")\n",
    "    for line in fvert:\n",
    "        cols = line.strip().split('\\t')\n",
    "        cid = cols[0]\n",
    "        cname = cols[1].split('|')[0]\n",
    "        cid2name[cid] = cname\n",
    "    fvert.close()\n",
    "    return cid2name\n",
    "\n",
    "cid2name = build_cid_name_mapping(KG_VERTICES_FILEPATH)\n",
    "print(DISEASE_CID, cid2name[DISEASE_CID])"
   ]
  },
  {
   "cell_type": "markdown",
   "metadata": {},
   "source": [
    "### Find Disease Category CIDs\n",
    "\n",
    "The children of the `DISEASE_CID` concept are the disease categories we are interested in rolling up to. This is used to filter out ancestor concepts."
   ]
  },
  {
   "cell_type": "code",
   "execution_count": 5,
   "metadata": {},
   "outputs": [
    {
     "name": "stdout",
     "output_type": "stream",
     "text": [
      "['9092344', '8816100', '8183827', '8120549', '9792275']\n"
     ]
    }
   ],
   "source": [
    "def find_disease_category_nodes(graph, parent_cid):\n",
    "    query = \"\"\"\n",
    "        MATCH (src:Concept)-[:REL]->(dst:Concept {cid:'2795416'}) \n",
    "        RETURN src.cid AS src_cid\n",
    "    \"\"\"\n",
    "    disease_categories = []\n",
    "    results = graph.run(query).data()\n",
    "    for result in results:\n",
    "        disease_categories.append(result[\"src_cid\"])\n",
    "    return set(disease_categories)\n",
    "\n",
    "disease_category_cids = find_disease_category_nodes(graph, DISEASE_CID)\n",
    "print(list(disease_category_cids)[0:5])"
   ]
  },
  {
   "cell_type": "markdown",
   "metadata": {},
   "source": [
    "### Extract CIDs from Annotation and PPR Prediction files\n",
    "\n",
    "Generic function to extract CIDs from either file (remember they have the same format) for a given story."
   ]
  },
  {
   "cell_type": "code",
   "execution_count": 6,
   "metadata": {},
   "outputs": [],
   "source": [
    "def extract_source_cids(filename, story_id):\n",
    "    cids = []\n",
    "    fppv = open(filename, \"r\")\n",
    "    for line in fppv:\n",
    "        sid, cid, weight = line.strip().split('\\t')\n",
    "        if sid != story_id:\n",
    "            continue\n",
    "        cids.append(cid)\n",
    "    fppv.close()\n",
    "    if len(cids) > 20:\n",
    "        return cids[0:20]\n",
    "    else:\n",
    "        return cids"
   ]
  },
  {
   "cell_type": "markdown",
   "metadata": {},
   "source": [
    "### Compute path from each CID to category CIDs\n",
    "\n",
    "The pair of functions below is a recursive function to navigate via the parent link `isChildOf`. At each stage, there can be 0, 1, or more parents. Recursion stops if there are 0 parents or if the parent reached is a category CID.\n",
    "\n",
    "Caller will call the `find_categories` function with the list of CIDs corresponding to the annotations or PPR predictions. For each CID, the function will create the necessary data structures and call the recursive function `_find_parent_nodes`."
   ]
  },
  {
   "cell_type": "code",
   "execution_count": 7,
   "metadata": {},
   "outputs": [],
   "source": [
    "def _find_parent_nodes(graph, child_cid, disease_category_cids, \n",
    "                       ancestor_list):\n",
    "    query = \"\"\"\n",
    "        MATCH (src:Concept {cid:'%s'})-[:REL]->(dst:Concept)\n",
    "        RETURN dst.cid AS dst_cid\n",
    "    \"\"\" % (child_cid)\n",
    "    results = graph.run(query).data()\n",
    "    num_results = 0\n",
    "    for result in results:\n",
    "        parent_cid = result[\"dst_cid\"]\n",
    "        ancestor_list.append(parent_cid)\n",
    "        if parent_cid in disease_category_cids:\n",
    "            # we have reached the category nodes, stop climbing\n",
    "            return\n",
    "        _find_parent_nodes(graph, parent_cid, disease_category_cids, \n",
    "                           ancestor_list)\n",
    "        num_results += 1\n",
    "    if num_results == 0:\n",
    "        # no parents for this node, stop climbing\n",
    "        return\n",
    "\n",
    "\n",
    "def find_categories(cids):\n",
    "    doc_categories = set()\n",
    "    for cid in cids:\n",
    "        ancestor_list = [cid]\n",
    "        _find_parent_nodes(graph, cid, disease_category_cids, ancestor_list)\n",
    "        category_cids = set(ancestor_list).intersection(disease_category_cids)\n",
    "        doc_categories.update(category_cids)\n",
    "    return doc_categories"
   ]
  },
  {
   "cell_type": "markdown",
   "metadata": {},
   "source": [
    "### Finding categories for all stories"
   ]
  },
  {
   "cell_type": "code",
   "execution_count": 8,
   "metadata": {},
   "outputs": [
    {
     "name": "stdout",
     "output_type": "stream",
     "text": [
      "story_id: 190823140729\n",
      "original categories: [('8116566', 'disorder by body site'), ('8183829', 'neoplasm and/or hamartoma'), ('2795902', 'mental disorder'), ('9773914', 'physical disorder')]\n",
      "PPR categories: [('8108157', 'inflammatory disorder'), ('9773914', 'physical disorder'), ('8120549', 'disorder characterized by pain'), ('8116566', 'disorder by body site')]\n",
      "---\n",
      "story_id: 190904194433\n",
      "original categories: [('9105210', 'female genital and obstetric disorder'), ('8183829', 'neoplasm and/or hamartoma')]\n",
      "PPR categories: [('8108157', 'inflammatory disorder'), ('9773914', 'physical disorder'), ('8183829', 'neoplasm and/or hamartoma'), ('8120549', 'disorder characterized by pain'), ('8116566', 'disorder by body site')]\n",
      "---\n",
      "story_id: 190909193211\n",
      "original categories: [('8116566', 'disorder by body site'), ('2797067', 'nutrition and metabolism disorders'), ('8183829', 'neoplasm and/or hamartoma')]\n",
      "PPR categories: [('8108157', 'inflammatory disorder'), ('9773914', 'physical disorder'), ('8120549', 'disorder characterized by pain'), ('8116566', 'disorder by body site'), ('8108140', 'degenerative disorder')]\n",
      "---\n",
      "story_id: 190916092109\n",
      "original categories: [('2805674', 'hereditary disorder'), ('9773914', 'physical disorder'), ('8183829', 'neoplasm and/or hamartoma')]\n",
      "PPR categories: [('8108157', 'inflammatory disorder'), ('9773914', 'physical disorder'), ('8183829', 'neoplasm and/or hamartoma'), ('8120549', 'disorder characterized by pain'), ('8116566', 'disorder by body site')]\n",
      "---\n"
     ]
    }
   ],
   "source": [
    "for filename in os.listdir(DATA_DIR):\n",
    "    if not filename.endswith(\".story\"):\n",
    "        continue\n",
    "    ppr_cids = []\n",
    "    story_id = filename.split('.')[0]\n",
    "    # extract cids\n",
    "    orig_cids = extract_source_cids(ST_CONCEPTS_FILEPATH, story_id)\n",
    "    ppr_cids = extract_source_cids(PP_CONCEPTS_FILEPATH, story_id)\n",
    "    # find categories by tree climbing\n",
    "    orig_categories = find_categories(orig_cids)\n",
    "    ppr_categories = find_categories(ppr_cids)\n",
    "    print(\"story_id: {:s}\".format(story_id))\n",
    "    print(\"original categories:\", [(cid, cid2name[cid]) for cid in orig_categories])\n",
    "    print(\"PPR categories:\", [(cid, cid2name[cid]) for cid in ppr_categories])\n",
    "    print(\"---\")"
   ]
  },
  {
   "cell_type": "code",
   "execution_count": null,
   "metadata": {},
   "outputs": [],
   "source": []
  }
 ],
 "metadata": {
  "kernelspec": {
   "display_name": "Python 3",
   "language": "python",
   "name": "python3"
  },
  "language_info": {
   "codemirror_mode": {
    "name": "ipython",
    "version": 3
   },
   "file_extension": ".py",
   "mimetype": "text/x-python",
   "name": "python",
   "nbconvert_exporter": "python",
   "pygments_lexer": "ipython3",
   "version": "3.6.7"
  }
 },
 "nbformat": 4,
 "nbformat_minor": 2
}
