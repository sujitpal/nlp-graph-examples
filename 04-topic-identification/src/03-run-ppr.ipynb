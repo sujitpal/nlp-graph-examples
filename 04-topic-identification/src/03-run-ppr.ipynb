{
 "cells": [
  {
   "cell_type": "markdown",
   "metadata": {},
   "source": [
    "## Run Personalized PageRank (PPR)\n",
    "\n",
    "We set up the first graph of aggregated relations (one without parent and child relationships). The Neo4j graph is built using the following `neo4j-admin` command.\n",
    "\n",
    "    neo4j-admin import \\\n",
    "        --nodes=/path/to/neo4j-nodes.tsv \\\n",
    "        --relationships=/path/to/neo4j-redges.tsv\n",
    "        \n",
    "In this notebook, we will use the top (10) concepts for each article from the `story-concepts.tsv` file to populate the sourceNodes parameter for a Personalized PageRank PPR call. We will then write out the top (20) concepts that have the highest pagerank value from PPR.\n",
    "\n",
    "Output is written (in same format) to the file `story-ppr-concepts.tsv`."
   ]
  },
  {
   "cell_type": "code",
   "execution_count": 1,
   "metadata": {},
   "outputs": [],
   "source": [
    "import os\n",
    "import pandas as pd\n",
    "import py2neo"
   ]
  },
  {
   "cell_type": "code",
   "execution_count": 2,
   "metadata": {},
   "outputs": [],
   "source": [
    "DATA_DIR = \"../data\"\n",
    "ANNOTATION_FILEPATH = os.path.join(DATA_DIR, \"story-concepts.tsv\")\n",
    "PPR_RESULTS_FILEPATH = os.path.join(DATA_DIR, \"story-ppr-concepts.tsv\")\n",
    "\n",
    "NEO4J_CONN_URL = \"bolt://localhost:7687\"\n",
    "\n",
    "TOP_INPUTS = 10\n",
    "TOP_OUTPUTS = 20"
   ]
  },
  {
   "cell_type": "markdown",
   "metadata": {},
   "source": [
    "### Supporting functions\n",
    "\n",
    "* `get_concepts` extracts the most frequent `num_concepts` annotated for the story given by `story_id`.\n",
    "\n",
    "* `build_ppr_query` builds the appropriate PPR query given `cids` the input list of concept IDs and the number of output concepts `num_concepts`."
   ]
  },
  {
   "cell_type": "code",
   "execution_count": 3,
   "metadata": {},
   "outputs": [],
   "source": [
    "def get_concepts(story_id, num_concepts):\n",
    "    cids = []\n",
    "    fannots = open(ANNOTATION_FILEPATH, \"r\")\n",
    "    for line in fannots:\n",
    "        sid, cid, num_matched = line.strip().split('\\t')\n",
    "        if sid != story_id:\n",
    "            continue\n",
    "        num_matched = int(num_matched)\n",
    "        if num_matched > 1:\n",
    "            cids.append(cid)\n",
    "    fannots.close()\n",
    "    if len(cids) > num_concepts:\n",
    "        return cids[0:num_concepts]\n",
    "    else:\n",
    "        return cids\n",
    "\n",
    "\n",
    "def build_ppr_query(cids, num_concepts):\n",
    "    query_str = []\n",
    "    for cid in cids:\n",
    "        query_str.append(\"MATCH (c%s:Concept {cid:'%s'})\" % (cid, cid))\n",
    "    source_nodes = \"[\" + \",\".join([\"c{:s}\".format(cid) for cid in cids]) + \"]\"\n",
    "    query_str.append(\"\"\"\n",
    "CALL algo.pageRank.stream('Concept', 'REL', \n",
    "    {iterations:50, dampingFactor:0.85, sourceNodes:%s})\n",
    "YIELD nodeId, score\n",
    "RETURN algo.asNode(nodeId).cid AS cid, score\n",
    "ORDER BY score DESC\n",
    "LIMIT %d\n",
    "    \"\"\" % (source_nodes, num_concepts))\n",
    "    return \"\\n\".join(query_str)\n"
   ]
  },
  {
   "cell_type": "markdown",
   "metadata": {},
   "source": [
    "### Run PPR for each story"
   ]
  },
  {
   "cell_type": "code",
   "execution_count": 4,
   "metadata": {},
   "outputs": [
    {
     "name": "stdout",
     "output_type": "stream",
     "text": [
      "running PPR for story ID: 190823140729\n",
      "query:\n",
      "MATCH (c8001550:Concept {cid:'8001550'})\n",
      "MATCH (c9199226:Concept {cid:'9199226'})\n",
      "MATCH (c2795416:Concept {cid:'2795416'})\n",
      "MATCH (c9790284:Concept {cid:'9790284'})\n",
      "MATCH (c8837843:Concept {cid:'8837843'})\n",
      "MATCH (c9793882:Concept {cid:'9793882'})\n",
      "MATCH (c8113323:Concept {cid:'8113323'})\n",
      "\n",
      "CALL algo.pageRank.stream('Concept', 'REL', \n",
      "    {iterations:50, dampingFactor:0.85, sourceNodes:[c8001550,c9199226,c2795416,c9790284,c8837843,c9793882,c8113323]})\n",
      "YIELD nodeId, score\n",
      "RETURN algo.asNode(nodeId).cid AS cid, score\n",
      "ORDER BY score DESC\n",
      "LIMIT 20\n",
      "    \n",
      "---\n",
      "running PPR for story ID: 190904194433\n",
      "query:\n",
      "MATCH (c8101607:Concept {cid:'8101607'})\n",
      "MATCH (c8133519:Concept {cid:'8133519'})\n",
      "MATCH (c9199226:Concept {cid:'9199226'})\n",
      "MATCH (c9723275:Concept {cid:'9723275'})\n",
      "MATCH (c8106247:Concept {cid:'8106247'})\n",
      "MATCH (c9722807:Concept {cid:'9722807'})\n",
      "MATCH (c8128900:Concept {cid:'8128900'})\n",
      "MATCH (c8131137:Concept {cid:'8131137'})\n",
      "MATCH (c8120858:Concept {cid:'8120858'})\n",
      "\n",
      "CALL algo.pageRank.stream('Concept', 'REL', \n",
      "    {iterations:50, dampingFactor:0.85, sourceNodes:[c8101607,c8133519,c9199226,c9723275,c8106247,c9722807,c8128900,c8131137,c8120858]})\n",
      "YIELD nodeId, score\n",
      "RETURN algo.asNode(nodeId).cid AS cid, score\n",
      "ORDER BY score DESC\n",
      "LIMIT 20\n",
      "    \n",
      "---\n",
      "running PPR for story ID: 190909193211\n",
      "query:\n",
      "MATCH (c9715757:Concept {cid:'9715757'})\n",
      "MATCH (c9199226:Concept {cid:'9199226'})\n",
      "MATCH (c8001835:Concept {cid:'8001835'})\n",
      "MATCH (c9722807:Concept {cid:'9722807'})\n",
      "\n",
      "CALL algo.pageRank.stream('Concept', 'REL', \n",
      "    {iterations:50, dampingFactor:0.85, sourceNodes:[c9715757,c9199226,c8001835,c9722807]})\n",
      "YIELD nodeId, score\n",
      "RETURN algo.asNode(nodeId).cid AS cid, score\n",
      "ORDER BY score DESC\n",
      "LIMIT 20\n",
      "    \n",
      "---\n",
      "running PPR for story ID: 190916092109\n",
      "query:\n",
      "MATCH (c9722807:Concept {cid:'9722807'})\n",
      "MATCH (c8001548:Concept {cid:'8001548'})\n",
      "MATCH (c8001737:Concept {cid:'8001737'})\n",
      "MATCH (c9199226:Concept {cid:'9199226'})\n",
      "MATCH (c8002626:Concept {cid:'8002626'})\n",
      "MATCH (c9723331:Concept {cid:'9723331'})\n",
      "MATCH (c2810722:Concept {cid:'2810722'})\n",
      "MATCH (c2795416:Concept {cid:'2795416'})\n",
      "MATCH (c8001550:Concept {cid:'8001550'})\n",
      "MATCH (c8109408:Concept {cid:'8109408'})\n",
      "\n",
      "CALL algo.pageRank.stream('Concept', 'REL', \n",
      "    {iterations:50, dampingFactor:0.85, sourceNodes:[c9722807,c8001548,c8001737,c9199226,c8002626,c9723331,c2810722,c2795416,c8001550,c8109408]})\n",
      "YIELD nodeId, score\n",
      "RETURN algo.asNode(nodeId).cid AS cid, score\n",
      "ORDER BY score DESC\n",
      "LIMIT 20\n",
      "    \n",
      "---\n"
     ]
    }
   ],
   "source": [
    "graph = py2neo.Graph(NEO4J_CONN_URL, auth=(\"neo4j\", \"graph\"))\n",
    "\n",
    "fppr = open(PPR_RESULTS_FILEPATH, \"w\")\n",
    "for fname in os.listdir(DATA_DIR):\n",
    "    if not fname.endswith(\".story\"):\n",
    "        continue\n",
    "    story_id = fname.split('.')[0]\n",
    "    cids = get_concepts(story_id, TOP_INPUTS)\n",
    "    if len(cids) == 0:\n",
    "        print(\"Not enough concepts found in {:s} for PPR, skipping\"\n",
    "            .format(story_id))\n",
    "        continue\n",
    "    query = build_ppr_query(cids, TOP_OUTPUTS)\n",
    "    print(\"running PPR for story ID: {:s}\".format(story_id))\n",
    "    print(\"query:\")\n",
    "    print(query)\n",
    "    print(\"---\")\n",
    "    results = graph.run(query).data()\n",
    "    for result in results:\n",
    "        fppr.write(\"{:s}\\t{:s}\\t{:.5f}\\n\"\n",
    "            .format(story_id, result[\"cid\"], result[\"score\"]))\n",
    "\n",
    "fppr.close()"
   ]
  },
  {
   "cell_type": "markdown",
   "metadata": {},
   "source": [
    "### Verify Output"
   ]
  },
  {
   "cell_type": "code",
   "execution_count": 5,
   "metadata": {},
   "outputs": [
    {
     "data": {
      "text/html": [
       "<div>\n",
       "<style scoped>\n",
       "    .dataframe tbody tr th:only-of-type {\n",
       "        vertical-align: middle;\n",
       "    }\n",
       "\n",
       "    .dataframe tbody tr th {\n",
       "        vertical-align: top;\n",
       "    }\n",
       "\n",
       "    .dataframe thead th {\n",
       "        text-align: right;\n",
       "    }\n",
       "</style>\n",
       "<table border=\"1\" class=\"dataframe\">\n",
       "  <thead>\n",
       "    <tr style=\"text-align: right;\">\n",
       "      <th></th>\n",
       "      <th>story_id</th>\n",
       "      <th>concept_id</th>\n",
       "      <th>pagerank</th>\n",
       "    </tr>\n",
       "  </thead>\n",
       "  <tbody>\n",
       "    <tr>\n",
       "      <td>0</td>\n",
       "      <td>190823140729</td>\n",
       "      <td>8837843</td>\n",
       "      <td>0.15</td>\n",
       "    </tr>\n",
       "    <tr>\n",
       "      <td>1</td>\n",
       "      <td>190823140729</td>\n",
       "      <td>2795416</td>\n",
       "      <td>0.15</td>\n",
       "    </tr>\n",
       "    <tr>\n",
       "      <td>2</td>\n",
       "      <td>190823140729</td>\n",
       "      <td>9199226</td>\n",
       "      <td>0.15</td>\n",
       "    </tr>\n",
       "    <tr>\n",
       "      <td>3</td>\n",
       "      <td>190823140729</td>\n",
       "      <td>8113323</td>\n",
       "      <td>0.15</td>\n",
       "    </tr>\n",
       "    <tr>\n",
       "      <td>4</td>\n",
       "      <td>190823140729</td>\n",
       "      <td>9793882</td>\n",
       "      <td>0.15</td>\n",
       "    </tr>\n",
       "  </tbody>\n",
       "</table>\n",
       "</div>"
      ],
      "text/plain": [
       "       story_id  concept_id  pagerank\n",
       "0  190823140729     8837843      0.15\n",
       "1  190823140729     2795416      0.15\n",
       "2  190823140729     9199226      0.15\n",
       "3  190823140729     8113323      0.15\n",
       "4  190823140729     9793882      0.15"
      ]
     },
     "execution_count": 5,
     "metadata": {},
     "output_type": "execute_result"
    }
   ],
   "source": [
    "ppr_df = pd.read_csv(PPR_RESULTS_FILEPATH, delimiter=\"\\t\",\n",
    "    names=[\"story_id\", \"concept_id\", \"pagerank\"])\n",
    "ppr_df.head()"
   ]
  },
  {
   "cell_type": "code",
   "execution_count": null,
   "metadata": {},
   "outputs": [],
   "source": []
  }
 ],
 "metadata": {
  "kernelspec": {
   "display_name": "Python 3",
   "language": "python",
   "name": "python3"
  },
  "language_info": {
   "codemirror_mode": {
    "name": "ipython",
    "version": 3
   },
   "file_extension": ".py",
   "mimetype": "text/x-python",
   "name": "python",
   "nbconvert_exporter": "python",
   "pygments_lexer": "ipython3",
   "version": "3.6.7"
  }
 },
 "nbformat": 4,
 "nbformat_minor": 2
}
