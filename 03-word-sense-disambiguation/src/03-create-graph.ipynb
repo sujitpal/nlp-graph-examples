{
 "cells": [
  {
   "cell_type": "markdown",
   "metadata": {},
   "source": [
    "## Create Graph\n",
    "\n",
    "This notebook creates the node and edge CSV files readable by `neo4j-admin` to import the graph into the DB.\n",
    "\n",
    "Node file stores an additional `seed_label` attribute along with `doc_id`. For sentences which were manually annotated with label of either 1 or 2, the `seed_label` contains that value. For sentences which were not manually annotated, the `seed_label` contains a unique running number.\n",
    "\n",
    "Edges are extracted from the similarity matrix we built in the previous notebook."
   ]
  },
  {
   "cell_type": "code",
   "execution_count": 1,
   "metadata": {},
   "outputs": [],
   "source": [
    "import numpy as np\n",
    "import os"
   ]
  },
  {
   "cell_type": "code",
   "execution_count": 2,
   "metadata": {},
   "outputs": [],
   "source": [
    "DATA_DIR = \"../data\"\n",
    "SENTS_FILEPATH = os.path.join(DATA_DIR, \"sentences-compound-plabels.tsv\")\n",
    "SIM_MATRIX_FILEPATH = os.path.join(DATA_DIR, \"sim-matrix.npy\")\n",
    "\n",
    "NODES_FILEPATH = os.path.join(DATA_DIR, \"nodes-compound.csv\")\n",
    "EDGES_FILEPATH = os.path.join(DATA_DIR, \"edges-compound.csv\")"
   ]
  },
  {
   "cell_type": "markdown",
   "metadata": {},
   "source": [
    "### Write Nodes File\n",
    "\n",
    "In addition to reading the partially manually annotated `sentences-compound-plabels.tsv` file to write out the node values as described above, we also build a `row_id` to `doc_id` mapping that will be used in the next step for writing the edges file.\n",
    "\n",
    "The `nodes-compound.csv` file looks like this:\n",
    "\n",
    "    doc_id:ID,seed_label:int,:LABEL\n",
    "    S000292971500333X-2942,2,Sentence\n",
    "    S000292971500333X-4265,2,Sentence\n",
    "    ..."
   ]
  },
  {
   "cell_type": "code",
   "execution_count": 3,
   "metadata": {},
   "outputs": [
    {
     "name": "stdout",
     "output_type": "stream",
     "text": [
      "number of nodes: 668\n"
     ]
    }
   ],
   "source": [
    "row2docid = {}\n",
    "curr_rowid = 0\n",
    "fnodes = open(NODES_FILEPATH, \"w\")\n",
    "fnodes.write(\"doc_id:ID,seed_label:int,:LABEL\\n\")\n",
    "fsents = open(SENTS_FILEPATH, \"r\")\n",
    "for line in fsents:\n",
    "    if line.startswith(\"#\"):\n",
    "        continue\n",
    "    pii, sent_id, text, label = line.strip().split('\\t')\n",
    "    doc_id = \"-\".join([pii, sent_id])\n",
    "    label = int(label)\n",
    "    if label != -1:  # manually set\n",
    "        fnodes.write(\"{:s},{:d},Sentence\\n\".format(doc_id, label))\n",
    "    else:\n",
    "        fnodes.write(\"{:s},{:d},Sentence\\n\".format(doc_id, curr_rowid))\n",
    "    row2docid[curr_rowid] = doc_id\n",
    "    curr_rowid += 1\n",
    "\n",
    "fsents.close()\n",
    "fnodes.close()\n",
    "print(\"number of nodes: {:d}\".format(curr_rowid))"
   ]
  },
  {
   "cell_type": "markdown",
   "metadata": {},
   "source": [
    "### Write Edges File\n",
    "\n",
    "The `edges-compound.csv` file should look something like this.\n",
    "\n",
    "    :START_ID,similarity:float,:END_ID,:TYPE\n",
    "    S000292971500333X-2942,0.23417,S000292971500333X-4265,SIM\n",
    "    S000292971500333X-2942,0.21130,S000292971500333X-6155,SIM\n",
    "    ...\n",
    "\n",
    "The similarity file is used to get the edges between sentence i and sentence j. The actual `doc_id` values are looked up via the `row2docid` mapping created in the previous step."
   ]
  },
  {
   "cell_type": "code",
   "execution_count": 4,
   "metadata": {},
   "outputs": [
    {
     "name": "stdout",
     "output_type": "stream",
     "text": [
      "number of edges: 3340\n"
     ]
    }
   ],
   "source": [
    "# edges\n",
    "num_edges = 0\n",
    "S = np.load(SIM_MATRIX_FILEPATH)\n",
    "fedges = open(EDGES_FILEPATH, \"w\")\n",
    "fedges.write(\":START_ID,similarity:float,:END_ID,:TYPE\\n\")\n",
    "for i in range(S.shape[0]):\n",
    "    for j in range(S.shape[1]):\n",
    "        if S[i, j] != 0:\n",
    "            src_doc_id = row2docid[i]\n",
    "            dst_doc_id = row2docid[j]\n",
    "            weight = S[i, j]\n",
    "            fedges.write(\"{:s},{:.5f},{:s},SIM\\n\"\n",
    "                .format(src_doc_id, weight, dst_doc_id))\n",
    "            num_edges += 1\n",
    "\n",
    "fedges.close()\n",
    "print(\"number of edges: {:d}\".format(num_edges))"
   ]
  },
  {
   "cell_type": "code",
   "execution_count": null,
   "metadata": {},
   "outputs": [],
   "source": []
  }
 ],
 "metadata": {
  "kernelspec": {
   "display_name": "Python 3",
   "language": "python",
   "name": "python3"
  },
  "language_info": {
   "codemirror_mode": {
    "name": "ipython",
    "version": 3
   },
   "file_extension": ".py",
   "mimetype": "text/x-python",
   "name": "python",
   "nbconvert_exporter": "python",
   "pygments_lexer": "ipython3",
   "version": "3.6.7"
  }
 },
 "nbformat": 4,
 "nbformat_minor": 2
}
