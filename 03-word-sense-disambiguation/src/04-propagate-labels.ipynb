{
 "cells": [
  {
   "cell_type": "markdown",
   "metadata": {},
   "source": [
    "## Label Propagation\n",
    "\n",
    "In this notebook, we will import the graph using the `neo4j-admin` tool and the CSV files that were built in the previous notebook. The command to load the data into a new Neo4j graph is as follows:\n",
    "\n",
    "    cd $NEO4J_HOME\n",
    "    bin/neo4j-admin import \\\n",
    "        --nodes=/path/to/nodes-compound.csv \\\n",
    "        --relationships=/path/to/edges-compound.csv\n",
    "        \n",
    "In this notebook, we will connect to the database, run Label Propagation against the graph, and then collect the predictions made by the Label Propagation algorithm.\n",
    "\n",
    "We will read the `sentences-compound-plabels.tsv` file to build a mapping of `doc_id` to `sentence_text` so we can show the prediction along with the sentence in the output file `sentences-compound-preds.tsv`."
   ]
  },
  {
   "cell_type": "code",
   "execution_count": 1,
   "metadata": {},
   "outputs": [],
   "source": [
    "import os\n",
    "import pandas as pd\n",
    "import py2neo"
   ]
  },
  {
   "cell_type": "code",
   "execution_count": 2,
   "metadata": {},
   "outputs": [],
   "source": [
    "DATA_DIR = \"../data\"\n",
    "SENTS_FILEPATH = os.path.join(DATA_DIR, \"sentences-compound-plabels.tsv\")\n",
    "PREDS_FILEPATH = os.path.join(DATA_DIR, \"sentences-compound-preds.tsv\")\n",
    "\n",
    "NEO4J_CONN_URL = \"bolt://localhost:7687\""
   ]
  },
  {
   "cell_type": "markdown",
   "metadata": {},
   "source": [
    "### Build sentence ID to text mapping"
   ]
  },
  {
   "cell_type": "code",
   "execution_count": 3,
   "metadata": {},
   "outputs": [],
   "source": [
    "# docid to text\n",
    "test_docid2text = {}\n",
    "fsents = open(SENTS_FILEPATH, \"r\")\n",
    "for line in fsents:\n",
    "    if line.startswith(\"#\"):\n",
    "        continue\n",
    "    pii, sent_id, sent_text, label = line.strip().split('\\t')\n",
    "    doc_id = \"-\".join([pii, sent_id])\n",
    "    label = int(label)\n",
    "    if label == -1:\n",
    "        test_docid2text[doc_id] = sent_text\n",
    "fsents.close()"
   ]
  },
  {
   "cell_type": "markdown",
   "metadata": {},
   "source": [
    "### Label Propagation\n",
    "\n",
    "Note that we run the Label Propagation algorithm on unweighted graph (i.e., we don't specify `weightProperty: \"similarity\"` in the parameters to `algo.labelPropagation.stream`). This is even though we set the `similarity` edge attribute. Reason for this is that the algorithm refuses to converge when run on the weighted graph. But when run on an unweighted graph, it does converge and gives reasonable results."
   ]
  },
  {
   "cell_type": "code",
   "execution_count": 4,
   "metadata": {},
   "outputs": [],
   "source": [
    "def run_label_propagation(graph):\n",
    "    query = \"\"\"\n",
    "    CALL algo.labelPropagation.stream(\"Sentence\", \"SIM\", {\n",
    "        direction: \"OUTGOING\", \n",
    "        seedProperty: \"seed_label\", \n",
    "        iterations: 10\n",
    "    })\n",
    "    YIELD nodeId, label\n",
    "    RETURN algo.asNode(nodeId).doc_id AS doc_id, label AS community\n",
    "    \"\"\"\n",
    "    results = graph.run(query).data()\n",
    "    return results"
   ]
  },
  {
   "cell_type": "code",
   "execution_count": 5,
   "metadata": {},
   "outputs": [],
   "source": [
    "graph = py2neo.Graph(NEO4J_CONN_URL, auth=(\"neo4j\", \"graph\"))\n",
    "results = run_label_propagation(graph)"
   ]
  },
  {
   "cell_type": "markdown",
   "metadata": {},
   "source": [
    "### Predictions\n",
    "\n",
    "We have captured the `test_docid2text` mappings for sentences that haven't been annotated. We record the label predictions made by the algorithm in the `community` field, into `sentences-compound-preds.tsv`.\n",
    "\n",
    "As can be seen, only some additional sentences have been annotated. Of the 628 unannotated sentences, 323 have been annotated with sense 1 (chemical compound), 7 have been annotated with sense 2 (multiple or composite), and 298 remain unannotated."
   ]
  },
  {
   "cell_type": "code",
   "execution_count": 6,
   "metadata": {},
   "outputs": [
    {
     "name": "stdout",
     "output_type": "stream",
     "text": [
      "number of predictions: 623\n"
     ]
    }
   ],
   "source": [
    "num_preds = 0\n",
    "fpreds = open(PREDS_FILEPATH, \"w\")\n",
    "for result in results:\n",
    "    doc_id = result[\"doc_id\"]\n",
    "    prediction = result[\"community\"]\n",
    "    if doc_id in test_docid2text.keys():\n",
    "        sent_text = test_docid2text[doc_id]\n",
    "        fpreds.write(\"{:s}\\t{:s}\\t{:d}\\n\".format(doc_id, sent_text, prediction))\n",
    "        num_preds += 1\n",
    "\n",
    "fpreds.close()\n",
    "print(\"number of predictions: {:d}\".format(num_preds))"
   ]
  },
  {
   "cell_type": "code",
   "execution_count": 7,
   "metadata": {},
   "outputs": [
    {
     "data": {
      "text/html": [
       "<div>\n",
       "<style scoped>\n",
       "    .dataframe tbody tr th:only-of-type {\n",
       "        vertical-align: middle;\n",
       "    }\n",
       "\n",
       "    .dataframe tbody tr th {\n",
       "        vertical-align: top;\n",
       "    }\n",
       "\n",
       "    .dataframe thead th {\n",
       "        text-align: right;\n",
       "    }\n",
       "</style>\n",
       "<table border=\"1\" class=\"dataframe\">\n",
       "  <thead>\n",
       "    <tr style=\"text-align: right;\">\n",
       "      <th></th>\n",
       "      <th>doc_id</th>\n",
       "      <th>sent_text</th>\n",
       "      <th>prediction</th>\n",
       "    </tr>\n",
       "  </thead>\n",
       "  <tbody>\n",
       "    <tr>\n",
       "      <td>0</td>\n",
       "      <td>S0010938X15301268-4821</td>\n",
       "      <td>In all, the IRAS results suggest that the near...</td>\n",
       "      <td>1</td>\n",
       "    </tr>\n",
       "    <tr>\n",
       "      <td>1</td>\n",
       "      <td>S0010938X15301268-6252</td>\n",
       "      <td>As a consequence of the radial distribution in...</td>\n",
       "      <td>1</td>\n",
       "    </tr>\n",
       "    <tr>\n",
       "      <td>2</td>\n",
       "      <td>S0013468616323520-5696</td>\n",
       "      <td>)(1)Jlim=2nFDI3−cI3−lwhere n is the electron n...</td>\n",
       "      <td>42</td>\n",
       "    </tr>\n",
       "    <tr>\n",
       "      <td>3</td>\n",
       "      <td>S0013468616323520-5843</td>\n",
       "      <td>The presence of polymer network can also be th...</td>\n",
       "      <td>163</td>\n",
       "    </tr>\n",
       "    <tr>\n",
       "      <td>4</td>\n",
       "      <td>S0014299914007481-4079</td>\n",
       "      <td>Their compound, the hexapeptide MeFKPdChaFr (N...</td>\n",
       "      <td>170</td>\n",
       "    </tr>\n",
       "  </tbody>\n",
       "</table>\n",
       "</div>"
      ],
      "text/plain": [
       "                   doc_id                                          sent_text  \\\n",
       "0  S0010938X15301268-4821  In all, the IRAS results suggest that the near...   \n",
       "1  S0010938X15301268-6252  As a consequence of the radial distribution in...   \n",
       "2  S0013468616323520-5696  )(1)Jlim=2nFDI3−cI3−lwhere n is the electron n...   \n",
       "3  S0013468616323520-5843  The presence of polymer network can also be th...   \n",
       "4  S0014299914007481-4079  Their compound, the hexapeptide MeFKPdChaFr (N...   \n",
       "\n",
       "   prediction  \n",
       "0           1  \n",
       "1           1  \n",
       "2          42  \n",
       "3         163  \n",
       "4         170  "
      ]
     },
     "execution_count": 7,
     "metadata": {},
     "output_type": "execute_result"
    }
   ],
   "source": [
    "pred_df = pd.read_csv(PREDS_FILEPATH, delimiter='\\t', \n",
    "    names=[\"doc_id\", \"sent_text\", \"prediction\"])\n",
    "pred_df.head()"
   ]
  },
  {
   "cell_type": "code",
   "execution_count": 8,
   "metadata": {},
   "outputs": [
    {
     "data": {
      "text/html": [
       "<div>\n",
       "<style scoped>\n",
       "    .dataframe tbody tr th:only-of-type {\n",
       "        vertical-align: middle;\n",
       "    }\n",
       "\n",
       "    .dataframe tbody tr th {\n",
       "        vertical-align: top;\n",
       "    }\n",
       "\n",
       "    .dataframe thead th {\n",
       "        text-align: right;\n",
       "    }\n",
       "</style>\n",
       "<table border=\"1\" class=\"dataframe\">\n",
       "  <thead>\n",
       "    <tr style=\"text-align: right;\">\n",
       "      <th></th>\n",
       "      <th>doc_id</th>\n",
       "      <th>sent_text</th>\n",
       "      <th>prediction</th>\n",
       "    </tr>\n",
       "  </thead>\n",
       "  <tbody>\n",
       "    <tr>\n",
       "      <td>0</td>\n",
       "      <td>S0010938X15301268-4821</td>\n",
       "      <td>In all, the IRAS results suggest that the near-surface region of HZ3 consists of zincite and cuprite as surface constituents, and at least one more compound which contains hydroxide ions and carbonate ions, most likely hydrozincite [20] (zinc hyd...</td>\n",
       "      <td>1</td>\n",
       "    </tr>\n",
       "    <tr>\n",
       "      <td>1</td>\n",
       "      <td>S0010938X15301268-6252</td>\n",
       "      <td>As a consequence of the radial distribution in potential and in local chemistry in the NaCl spreading area [24], and combined with the elemental analysis presented above, the formation of the commonly occurring compound simonkolleite, Zn5(OH)8Cl2...</td>\n",
       "      <td>1</td>\n",
       "    </tr>\n",
       "    <tr>\n",
       "      <td>6</td>\n",
       "      <td>S002016931100750X-787</td>\n",
       "      <td>ORTEP view of the compound [CuL8(ClO4)2] with the numbering scheme adopted.</td>\n",
       "      <td>1</td>\n",
       "    </tr>\n",
       "    <tr>\n",
       "      <td>7</td>\n",
       "      <td>S002016931100750X-2427</td>\n",
       "      <td>The compound L5 featuring the 1,7-diaza-4-thiacyclononane ([9]aneN2S, 3) was also synthesized for comparison purposes.</td>\n",
       "      <td>1</td>\n",
       "    </tr>\n",
       "    <tr>\n",
       "      <td>8</td>\n",
       "      <td>S0020751913002750-981</td>\n",
       "      <td>Representative two-electrode voltage clamp current traces from Xenopus oocytes expressing Rsanα1/β2 to (A) 1 mM acetylcholine (ACh), (B) 100 μM imidacloprid (IMI) and (C) 100 μM spinosad following a 5 s exposure (grey bar) to each compound.</td>\n",
       "      <td>1</td>\n",
       "    </tr>\n",
       "  </tbody>\n",
       "</table>\n",
       "</div>"
      ],
      "text/plain": [
       "                   doc_id  \\\n",
       "0  S0010938X15301268-4821   \n",
       "1  S0010938X15301268-6252   \n",
       "6   S002016931100750X-787   \n",
       "7  S002016931100750X-2427   \n",
       "8   S0020751913002750-981   \n",
       "\n",
       "                                                                                                                                                                                                                                                   sent_text  \\\n",
       "0  In all, the IRAS results suggest that the near-surface region of HZ3 consists of zincite and cuprite as surface constituents, and at least one more compound which contains hydroxide ions and carbonate ions, most likely hydrozincite [20] (zinc hyd...   \n",
       "1  As a consequence of the radial distribution in potential and in local chemistry in the NaCl spreading area [24], and combined with the elemental analysis presented above, the formation of the commonly occurring compound simonkolleite, Zn5(OH)8Cl2...   \n",
       "6                                                                                                                                                                                ORTEP view of the compound [CuL8(ClO4)2] with the numbering scheme adopted.   \n",
       "7                                                                                                                                     The compound L5 featuring the 1,7-diaza-4-thiacyclononane ([9]aneN2S, 3) was also synthesized for comparison purposes.   \n",
       "8           Representative two-electrode voltage clamp current traces from Xenopus oocytes expressing Rsanα1/β2 to (A) 1 mM acetylcholine (ACh), (B) 100 μM imidacloprid (IMI) and (C) 100 μM spinosad following a 5 s exposure (grey bar) to each compound.   \n",
       "\n",
       "   prediction  \n",
       "0           1  \n",
       "1           1  \n",
       "6           1  \n",
       "7           1  \n",
       "8           1  "
      ]
     },
     "execution_count": 8,
     "metadata": {},
     "output_type": "execute_result"
    }
   ],
   "source": [
    "pd.set_option(\"display.max_colwidth\", 250)\n",
    "chemical_df = pred_df[pred_df.prediction == 1]\n",
    "chemical_df.head()"
   ]
  },
  {
   "cell_type": "code",
   "execution_count": 9,
   "metadata": {},
   "outputs": [
    {
     "data": {
      "text/plain": [
       "319"
      ]
     },
     "execution_count": 9,
     "metadata": {},
     "output_type": "execute_result"
    }
   ],
   "source": [
    "chemical_df.count()[\"sent_text\"]"
   ]
  },
  {
   "cell_type": "code",
   "execution_count": 10,
   "metadata": {},
   "outputs": [
    {
     "data": {
      "text/html": [
       "<div>\n",
       "<style scoped>\n",
       "    .dataframe tbody tr th:only-of-type {\n",
       "        vertical-align: middle;\n",
       "    }\n",
       "\n",
       "    .dataframe tbody tr th {\n",
       "        vertical-align: top;\n",
       "    }\n",
       "\n",
       "    .dataframe thead th {\n",
       "        text-align: right;\n",
       "    }\n",
       "</style>\n",
       "<table border=\"1\" class=\"dataframe\">\n",
       "  <thead>\n",
       "    <tr style=\"text-align: right;\">\n",
       "      <th></th>\n",
       "      <th>doc_id</th>\n",
       "      <th>sent_text</th>\n",
       "      <th>prediction</th>\n",
       "    </tr>\n",
       "  </thead>\n",
       "  <tbody>\n",
       "    <tr>\n",
       "      <td>76</td>\n",
       "      <td>S0040402010010859-3830</td>\n",
       "      <td>As expected, iodination of 19 with 2.5 equiv of NIS in MeCN proceeded smoothly to give the requisite compound 21 (Scheme 4).</td>\n",
       "      <td>2</td>\n",
       "    </tr>\n",
       "    <tr>\n",
       "      <td>108</td>\n",
       "      <td>S0040402010010859-23636</td>\n",
       "      <td>Numbering used for the spectra description is based on 1-(1H-imidazol-2-yl)pent-4-ene-1,2,3-triol backbone as shown for compound 16 (Scheme 2).</td>\n",
       "      <td>2</td>\n",
       "    </tr>\n",
       "    <tr>\n",
       "      <td>109</td>\n",
       "      <td>S0040402010010859-23674</td>\n",
       "      <td>Numbering used for the spectra description is based on the 5-(hydroxymethyl)-5,6,7,8-tetrahydroimidazo[1,2-a]pyridine-6,7,8-triol backbone as shown for compound 18 (Scheme 3).</td>\n",
       "      <td>2</td>\n",
       "    </tr>\n",
       "    <tr>\n",
       "      <td>110</td>\n",
       "      <td>S0040402010010859-23726</td>\n",
       "      <td>Numbering used for the spectra description is based on 6,7,8,9-tetrahydro-5H-imidazo[1,2-a]azepine-7,8,9-triol backbone as shown for compound 25 (Scheme 5).</td>\n",
       "      <td>2</td>\n",
       "    </tr>\n",
       "    <tr>\n",
       "      <td>486</td>\n",
       "      <td>S1047847710001474-2520</td>\n",
       "      <td>Sensitive to compound fluorescence</td>\n",
       "      <td>2</td>\n",
       "    </tr>\n",
       "  </tbody>\n",
       "</table>\n",
       "</div>"
      ],
      "text/plain": [
       "                      doc_id  \\\n",
       "76    S0040402010010859-3830   \n",
       "108  S0040402010010859-23636   \n",
       "109  S0040402010010859-23674   \n",
       "110  S0040402010010859-23726   \n",
       "486   S1047847710001474-2520   \n",
       "\n",
       "                                                                                                                                                                           sent_text  \\\n",
       "76                                                      As expected, iodination of 19 with 2.5 equiv of NIS in MeCN proceeded smoothly to give the requisite compound 21 (Scheme 4).   \n",
       "108                                  Numbering used for the spectra description is based on 1-(1H-imidazol-2-yl)pent-4-ene-1,2,3-triol backbone as shown for compound 16 (Scheme 2).   \n",
       "109  Numbering used for the spectra description is based on the 5-(hydroxymethyl)-5,6,7,8-tetrahydroimidazo[1,2-a]pyridine-6,7,8-triol backbone as shown for compound 18 (Scheme 3).   \n",
       "110                     Numbering used for the spectra description is based on 6,7,8,9-tetrahydro-5H-imidazo[1,2-a]azepine-7,8,9-triol backbone as shown for compound 25 (Scheme 5).   \n",
       "486                                                                                                                                               Sensitive to compound fluorescence   \n",
       "\n",
       "     prediction  \n",
       "76            2  \n",
       "108           2  \n",
       "109           2  \n",
       "110           2  \n",
       "486           2  "
      ]
     },
     "execution_count": 10,
     "metadata": {},
     "output_type": "execute_result"
    }
   ],
   "source": [
    "composite_df = pred_df[pred_df.prediction == 2]\n",
    "composite_df.head()"
   ]
  },
  {
   "cell_type": "code",
   "execution_count": 11,
   "metadata": {},
   "outputs": [
    {
     "data": {
      "text/plain": [
       "7"
      ]
     },
     "execution_count": 11,
     "metadata": {},
     "output_type": "execute_result"
    }
   ],
   "source": [
    "composite_df.count()[\"sent_text\"]"
   ]
  },
  {
   "cell_type": "code",
   "execution_count": 12,
   "metadata": {},
   "outputs": [
    {
     "data": {
      "text/html": [
       "<div>\n",
       "<style scoped>\n",
       "    .dataframe tbody tr th:only-of-type {\n",
       "        vertical-align: middle;\n",
       "    }\n",
       "\n",
       "    .dataframe tbody tr th {\n",
       "        vertical-align: top;\n",
       "    }\n",
       "\n",
       "    .dataframe thead th {\n",
       "        text-align: right;\n",
       "    }\n",
       "</style>\n",
       "<table border=\"1\" class=\"dataframe\">\n",
       "  <thead>\n",
       "    <tr style=\"text-align: right;\">\n",
       "      <th></th>\n",
       "      <th>doc_id</th>\n",
       "      <th>sent_text</th>\n",
       "      <th>prediction</th>\n",
       "    </tr>\n",
       "  </thead>\n",
       "  <tbody>\n",
       "    <tr>\n",
       "      <td>2</td>\n",
       "      <td>S0013468616323520-5696</td>\n",
       "      <td>)(1)Jlim=2nFDI3−cI3−lwhere n is the electron number per molecule, F is the Faraday constant, DI3− is the diffusion coefficient of the limiting compound, andcI3−is the initial concentration of the limiting compound [24].</td>\n",
       "      <td>42</td>\n",
       "    </tr>\n",
       "    <tr>\n",
       "      <td>3</td>\n",
       "      <td>S0013468616323520-5843</td>\n",
       "      <td>The presence of polymer network can also be thought of as a barrier for the mobile ions to recombine with each other to form a tightly bound compound which effectively reduce the ion diffusion.</td>\n",
       "      <td>163</td>\n",
       "    </tr>\n",
       "    <tr>\n",
       "      <td>4</td>\n",
       "      <td>S0014299914007481-4079</td>\n",
       "      <td>Their compound, the hexapeptide MeFKPdChaFr (N-methylphenylalanine-Lys-Pro-d-cyclohexylalanine-Phe-d-arginine), was shown to be an antagonist but also had partial agonist behavior (Drapeau et al., 1993).</td>\n",
       "      <td>170</td>\n",
       "    </tr>\n",
       "    <tr>\n",
       "      <td>5</td>\n",
       "      <td>S0014488618304321-7563</td>\n",
       "      <td>Since previous work has shown that α-synuclein increases oxidative stress in models of PD (Esteves et al., 2009; Pan et al., 2011; Perfeito et al., 2017; Tapias et al., 2017), we examined sensitivity to oxidative in stress by exposing worms to th...</td>\n",
       "      <td>170</td>\n",
       "    </tr>\n",
       "    <tr>\n",
       "      <td>9</td>\n",
       "      <td>S0020751913002750-3610</td>\n",
       "      <td>USA), normalised data were fitted to the following equation: Y = Imin + (Imax − Imin)/1 + 10(logEC50−X)nH where Y is the normalised response amplitude to a compound applied at concentration X, Imax and Imin are the maximum and minimum normalised ...</td>\n",
       "      <td>42</td>\n",
       "    </tr>\n",
       "  </tbody>\n",
       "</table>\n",
       "</div>"
      ],
      "text/plain": [
       "                   doc_id  \\\n",
       "2  S0013468616323520-5696   \n",
       "3  S0013468616323520-5843   \n",
       "4  S0014299914007481-4079   \n",
       "5  S0014488618304321-7563   \n",
       "9  S0020751913002750-3610   \n",
       "\n",
       "                                                                                                                                                                                                                                                   sent_text  \\\n",
       "2                                )(1)Jlim=2nFDI3−cI3−lwhere n is the electron number per molecule, F is the Faraday constant, DI3− is the diffusion coefficient of the limiting compound, andcI3−is the initial concentration of the limiting compound [24].   \n",
       "3                                                          The presence of polymer network can also be thought of as a barrier for the mobile ions to recombine with each other to form a tightly bound compound which effectively reduce the ion diffusion.   \n",
       "4                                                Their compound, the hexapeptide MeFKPdChaFr (N-methylphenylalanine-Lys-Pro-d-cyclohexylalanine-Phe-d-arginine), was shown to be an antagonist but also had partial agonist behavior (Drapeau et al., 1993).   \n",
       "5  Since previous work has shown that α-synuclein increases oxidative stress in models of PD (Esteves et al., 2009; Pan et al., 2011; Perfeito et al., 2017; Tapias et al., 2017), we examined sensitivity to oxidative in stress by exposing worms to th...   \n",
       "9  USA), normalised data were fitted to the following equation: Y = Imin + (Imax − Imin)/1 + 10(logEC50−X)nH where Y is the normalised response amplitude to a compound applied at concentration X, Imax and Imin are the maximum and minimum normalised ...   \n",
       "\n",
       "   prediction  \n",
       "2          42  \n",
       "3         163  \n",
       "4         170  \n",
       "5         170  \n",
       "9          42  "
      ]
     },
     "execution_count": 12,
     "metadata": {},
     "output_type": "execute_result"
    }
   ],
   "source": [
    "neither_df = pred_df[(pred_df.prediction != 1) & \n",
    "                     (pred_df.prediction != 2)]\n",
    "neither_df.head()"
   ]
  },
  {
   "cell_type": "code",
   "execution_count": 13,
   "metadata": {},
   "outputs": [
    {
     "data": {
      "text/plain": [
       "297"
      ]
     },
     "execution_count": 13,
     "metadata": {},
     "output_type": "execute_result"
    }
   ],
   "source": [
    "neither_df.count()[\"sent_text\"]"
   ]
  },
  {
   "cell_type": "code",
   "execution_count": null,
   "metadata": {},
   "outputs": [],
   "source": []
  }
 ],
 "metadata": {
  "kernelspec": {
   "display_name": "Python 3",
   "language": "python",
   "name": "python3"
  },
  "language_info": {
   "codemirror_mode": {
    "name": "ipython",
    "version": 3
   },
   "file_extension": ".py",
   "mimetype": "text/x-python",
   "name": "python",
   "nbconvert_exporter": "python",
   "pygments_lexer": "ipython3",
   "version": "3.6.7"
  }
 },
 "nbformat": 4,
 "nbformat_minor": 2
}
