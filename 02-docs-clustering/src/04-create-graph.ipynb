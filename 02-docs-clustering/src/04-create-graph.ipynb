{
 "cells": [
  {
   "cell_type": "markdown",
   "metadata": {},
   "source": [
    "## Create Graph\n",
    "\n",
    "This notebook reads the serialized matrices of generation probabilities computed from random walks of path lengths 1..3, and writes out CSV files for nodes and relationships that can be imported by `neo4j-admin` to create a Neo4j graph.\n",
    "\n",
    "The only reason we will need to do this for this example is because we want to use the **Louvain Community Detection Algorithm** to do clustering of the resulting graph of generation probabilities."
   ]
  },
  {
   "cell_type": "code",
   "execution_count": 1,
   "metadata": {},
   "outputs": [],
   "source": [
    "import numpy as np\n",
    "import os"
   ]
  },
  {
   "cell_type": "code",
   "execution_count": 2,
   "metadata": {},
   "outputs": [],
   "source": [
    "DATA_DIR = \"../data\"\n",
    "\n",
    "LABEL_FILEPATH = os.path.join(DATA_DIR, \"labels.tsv\")\n",
    "GENPROB_FILEPATH_TEMPLATE = os.path.join(DATA_DIR, \"genprobs_{:d}.npy\")\n",
    "\n",
    "NODES_FILEPATH = os.path.join(DATA_DIR, \"nodes.csv\")\n",
    "EDGES_FILEPATH_TEMPLATE = os.path.join(DATA_DIR, \"edges-{:d}.csv\")"
   ]
  },
  {
   "cell_type": "markdown",
   "metadata": {},
   "source": [
    "### Generate node.csv and node_id lookup\n",
    "\n",
    "We read through the `labels.tsv` file to generate a mapping between the row ID of the generation probabilities matrix and the unique `doc_id` that we generated for the document.\n",
    "\n",
    "The `nodes.csv` file looks something like this.\n",
    "\n",
    "    doc_id:ID,category,:LABEL\n",
    "    0-0-54241,alt.atheism,Document\n",
    "    0-0-54242,alt.atheism,Document\n",
    "    0-0-54243,alt.atheism,Document\n",
    "    0-0-54244,alt.atheism,Document\n",
    "    0-0-54245,alt.atheism,Document"
   ]
  },
  {
   "cell_type": "code",
   "execution_count": 3,
   "metadata": {},
   "outputs": [
    {
     "name": "stdout",
     "output_type": "stream",
     "text": [
      "generating nodes...\n",
      "number of nodes: 18810\n"
     ]
    }
   ],
   "source": [
    "row2docid = {}\n",
    "fnodes = open(NODES_FILEPATH, \"w\")\n",
    "fnodes.write(\"doc_id:ID,category,:LABEL\\n\")\n",
    "flabels = open(LABEL_FILEPATH, \"r\")\n",
    "num_nodes = 0\n",
    "print(\"generating nodes...\")\n",
    "for line in flabels:\n",
    "    doc_id, label = line.strip().split('\\t')\n",
    "    row2docid[num_nodes] = doc_id\n",
    "    fnodes.write(\",\".join([doc_id, label, \"Document\"]) + \"\\n\")\n",
    "    num_nodes += 1\n",
    "\n",
    "fnodes.close()\n",
    "print(\"number of nodes: {:d}\".format(num_nodes))"
   ]
  },
  {
   "cell_type": "markdown",
   "metadata": {},
   "source": [
    "### Generate edges.csv\n",
    "\n",
    "Next we deserialize each of the `genprobs*.npy` (corresponding to t=1..3 respectively) to find the edges. The `edges-*.csv` file looks like this:\n",
    "\n",
    "    :START_ID,gen_prob:float,:END_ID,:TYPE\n",
    "    0-0-54241,0.02500,0-0-54255,PROB\n",
    "    0-0-54241,0.03750,0-0-53404,PROB\n",
    "    0-0-54241,0.02500,0-0-53783,PROB\n",
    "    0-0-54241,0.02500,0-0-53579,PROB\n",
    "    0-0-54241,0.01250,0-0-53671,PROB"
   ]
  },
  {
   "cell_type": "code",
   "execution_count": 4,
   "metadata": {},
   "outputs": [
    {
     "name": "stdout",
     "output_type": "stream",
     "text": [
      "generating edges for generation probabilities (1)...\n",
      "(18810, 18810)\n",
      "number of edges: 897785\n",
      "sparsity (%): 0.5074867989331181\n",
      "generating edges for generation probabilities (2)...\n",
      "(18810, 18810)\n",
      "number of edges: 1424403\n",
      "sparsity (%): 0.8051657344027024\n",
      "generating edges for generation probabilities (3)...\n",
      "(18810, 18810)\n",
      "number of edges: 1411704\n",
      "sparsity (%): 0.7979874290627249\n"
     ]
    }
   ],
   "source": [
    "for i in range(3):\n",
    "    num_hops = i + 1\n",
    "    fedges = open(EDGES_FILEPATH_TEMPLATE.format(num_hops), \"w\")\n",
    "    fedges.write(\":START_ID,gen_prob:float,:END_ID,:TYPE\\n\")\n",
    "    print(\"generating edges for generation probabilities ({:d})...\"\n",
    "          .format(num_hops))\n",
    "    G = np.load(GENPROB_FILEPATH_TEMPLATE.format(num_hops))\n",
    "    print(G.shape)\n",
    "    num_edges = 0\n",
    "    for i in range(G.shape[0]):\n",
    "        for j in range(G.shape[1]):\n",
    "            if G[i, j] == 0:\n",
    "                continue\n",
    "            start_id = row2docid[i]\n",
    "            end_id = row2docid[j]\n",
    "            gen_prob = G[i, j]\n",
    "            fedges.write(\"{:s},{:.5f},{:s},PROB\\n\".format(\n",
    "                start_id, gen_prob, end_id))\n",
    "            num_edges += 1\n",
    "\n",
    "    print(\"number of edges: {:d}\".format(num_edges))\n",
    "    print(\"sparsity (%):\", \n",
    "          (num_edges * 100) / (np.power(G.shape[0], 2) / 2))\n",
    "    fedges.close()"
   ]
  },
  {
   "cell_type": "markdown",
   "metadata": {},
   "source": [
    "### Import to Neo4j\n",
    "\n",
    "Sparsity numbers above indicate that the resulting generation probability graphs are quite sparse.\n",
    "\n",
    "To import a pair of `node.csv`, `edge.csv` CSV files, the following `neo4j-admin` command can be used.\n",
    "\n",
    "    cd $NEO4J_HOME\n",
    "    bin/neo4j-admin import \\\n",
    "        --nodes=/path/to/node.csv \\\n",
    "        --relationships=/path/to/edges.csv"
   ]
  },
  {
   "cell_type": "code",
   "execution_count": null,
   "metadata": {},
   "outputs": [],
   "source": []
  }
 ],
 "metadata": {
  "kernelspec": {
   "display_name": "Python 3",
   "language": "python",
   "name": "python3"
  },
  "language_info": {
   "codemirror_mode": {
    "name": "ipython",
    "version": 3
   },
   "file_extension": ".py",
   "mimetype": "text/x-python",
   "name": "python",
   "nbconvert_exporter": "python",
   "pygments_lexer": "ipython3",
   "version": "3.6.8"
  }
 },
 "nbformat": 4,
 "nbformat_minor": 2
}
