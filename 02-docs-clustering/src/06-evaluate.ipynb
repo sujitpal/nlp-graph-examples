{
 "cells": [
  {
   "cell_type": "markdown",
   "metadata": {},
   "source": [
    "## Evaluation\n",
    "\n",
    "We evaluate each of our clusters using [Silhouette Score](https://scikit-learn.org/stable/modules/generated/sklearn.metrics.silhouette_score.html). \n",
    "\n",
    "The Silhouette Coefficient is calculated using the mean intra-cluster distance (`a`) and the mean nearest-cluster distance (`b`), i.e., distane between sample and nearest cluster, for each sample. The Silhouette Coefficient for a sample is `(b - a) / max(a, b)`.\n",
    "\n",
    "The Silhouette Score is a measure of cluster quality, where valid values range from -1 (worst) to +1 (best). A value of 0 indicates overlapping clusters.\n",
    "\n",
    "**NOTE:** This notebook will need to be run for each of the following experiments:\n",
    "\n",
    "* TD-Matrix, KMeans\n",
    "* G1-Matrix, KMeans\n",
    "* G1-Matrix, Louvain\n",
    "* G2-Matrix, KMeans\n",
    "* G2-Matrix, Louvain\n",
    "* G3-Matrix, KMeans\n",
    "* G3-Matrix, Louvain\n"
   ]
  },
  {
   "cell_type": "code",
   "execution_count": 1,
   "metadata": {},
   "outputs": [],
   "source": [
    "import numpy as np\n",
    "import os\n",
    "\n",
    "from scipy.sparse import load_npz\n",
    "from sklearn.metrics import silhouette_score"
   ]
  },
  {
   "cell_type": "code",
   "execution_count": 2,
   "metadata": {},
   "outputs": [],
   "source": [
    "DATA_DIR = \"../data\""
   ]
  },
  {
   "cell_type": "code",
   "execution_count": 3,
   "metadata": {},
   "outputs": [],
   "source": [
    "# MATRIX_FILEPATH = os.path.join(DATA_DIR, \"tdmatrix.npz\")\n",
    "# PRED_FILEPATH = os.path.join(DATA_DIR, \"kmeans-preds-td.tsv\")\n",
    "\n",
    "MATRIX_FILEPATH = os.path.join(DATA_DIR, \"genprobs_1.npy\")\n",
    "PRED_FILEPATH = os.path.join(DATA_DIR, \"kmeans-preds-g1.tsv\")\n",
    "\n",
    "# MATRIX_FILEPATH = os.path.join(DATA_DIR, \"genprobs_1.npy\")\n",
    "# PRED_FILEPATH = os.path.join(DATA_DIR, \"louvain-preds-g1.tsv\")\n",
    "\n",
    "# MATRIX_FILEPATH = os.path.join(DATA_DIR, \"genprobs_2.npy\")\n",
    "# PRED_FILEPATH = os.path.join(DATA_DIR, \"kmeans-preds-g2.tsv\")\n",
    "\n",
    "# MATRIX_FILEPATH = os.path.join(DATA_DIR, \"genprobs_2.npy\")\n",
    "# PRED_FILEPATH = os.path.join(DATA_DIR, \"louvain-preds-g2.tsv\")\n",
    "\n",
    "# MATRIX_FILEPATH = os.path.join(DATA_DIR, \"genprobs_3.npy\")\n",
    "# PRED_FILEPATH = os.path.join(DATA_DIR, \"kmeans-preds-g3.tsv\")\n",
    "\n",
    "# MATRIX_FILEPATH = os.path.join(DATA_DIR, \"genprobs_3.npy\")\n",
    "# PRED_FILEPATH = os.path.join(DATA_DIR, \"louvain-preds-g3.tsv\")"
   ]
  },
  {
   "cell_type": "markdown",
   "metadata": {},
   "source": [
    "### Create label mappings"
   ]
  },
  {
   "cell_type": "code",
   "execution_count": 4,
   "metadata": {},
   "outputs": [
    {
     "name": "stdout",
     "output_type": "stream",
     "text": [
      "{'alt.atheism': 0, 'comp.graphics': 1, 'comp.os.ms-windows.misc': 2, 'comp.sys.ibm.pc.hardware': 3, 'comp.sys.mac.hardware': 4, 'comp.windows.x': 5, 'misc.forsale': 6, 'rec.autos': 7, 'rec.motorcycles': 8, 'rec.sport.baseball': 9, 'rec.sport.hockey': 10, 'sci.crypt': 11, 'sci.electronics': 12, 'sci.med': 13, 'sci.space': 14, 'soc.religion.christian': 15, 'talk.politics.guns': 16, 'talk.politics.mideast': 17, 'talk.politics.misc': 18, 'talk.religion.misc': 19}\n"
     ]
    }
   ],
   "source": [
    "unique_labels = set()\n",
    "LABEL_FILEPATH = os.path.join(DATA_DIR, \"labels.tsv\")\n",
    "flabel = open(LABEL_FILEPATH, \"r\")\n",
    "for line in flabel:\n",
    "    _, label = line.strip().split('\\t')\n",
    "    unique_labels.add(label)\n",
    "\n",
    "flabel.close()\n",
    "\n",
    "label2lid = {}\n",
    "sorted_labels = sorted(list(unique_labels))\n",
    "for lid, label in enumerate(sorted_labels):\n",
    "    label2lid[label] = lid\n",
    "\n",
    "print(label2lid)"
   ]
  },
  {
   "cell_type": "markdown",
   "metadata": {},
   "source": [
    "### Collect labels and predictions"
   ]
  },
  {
   "cell_type": "code",
   "execution_count": 5,
   "metadata": {},
   "outputs": [],
   "source": [
    "labels, predictions = [], []\n",
    "fpreds = open(PRED_FILEPATH, \"r\")\n",
    "for line in fpreds:\n",
    "    _, label, pred = line.strip().split('\\t')\n",
    "    labels.append(label2lid[label])\n",
    "    predictions.append(int(pred))\n",
    "\n",
    "fpreds.close()"
   ]
  },
  {
   "cell_type": "markdown",
   "metadata": {},
   "source": [
    "### Load data\n",
    "\n",
    "Only for the TD-Matrix, we will calculate the silhouette score for labels and predictions."
   ]
  },
  {
   "cell_type": "code",
   "execution_count": 6,
   "metadata": {},
   "outputs": [
    {
     "name": "stdout",
     "output_type": "stream",
     "text": [
      "0.05757169248381719\n"
     ]
    }
   ],
   "source": [
    "# X = load_npz(MATRIX_FILEPATH)\n",
    "X = np.load(MATRIX_FILEPATH)\n",
    "# print(silhouette_score(X, labels))\n",
    "print(silhouette_score(X, predictions))"
   ]
  },
  {
   "cell_type": "code",
   "execution_count": null,
   "metadata": {},
   "outputs": [],
   "source": []
  }
 ],
 "metadata": {
  "kernelspec": {
   "display_name": "Python 3",
   "language": "python",
   "name": "python3"
  },
  "language_info": {
   "codemirror_mode": {
    "name": "ipython",
    "version": 3
   },
   "file_extension": ".py",
   "mimetype": "text/x-python",
   "name": "python",
   "nbconvert_exporter": "python",
   "pygments_lexer": "ipython3",
   "version": "3.6.7"
  }
 },
 "nbformat": 4,
 "nbformat_minor": 2
}
