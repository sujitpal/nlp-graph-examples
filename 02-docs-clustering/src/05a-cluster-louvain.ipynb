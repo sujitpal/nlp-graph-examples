{
 "cells": [
  {
   "cell_type": "markdown",
   "metadata": {},
   "source": [
    "## Cluster with Louvain Community Detection\n",
    "\n",
    "We construct a graph from the set of nodes given by `nodes.csv` and the appropriate `edges-${t}.csv` for t=1..3, corresponding to random walks generated for number of hops t.\n",
    "\n",
    "For the graph, we will run the Louvain Community Detection Algorithm, and use the community predicted by the algorithm to cluster our documents.\n",
    "\n",
    "The Louvain Algorithm maximizes the modularity score for each community in the network. The modularity score is a measure of how densely connected nodes in a community are compared to their connectivity in a random network.\n",
    "\n",
    "**NOTE:** This notebook will need to be run multiple times for different values of `t`. For each time, the graph will have to be created manually using `neo4j-admin`."
   ]
  },
  {
   "cell_type": "code",
   "execution_count": 1,
   "metadata": {},
   "outputs": [],
   "source": [
    "import collections\n",
    "import numpy as np\n",
    "import pandas as pd\n",
    "import py2neo\n",
    "import operator\n",
    "import os"
   ]
  },
  {
   "cell_type": "markdown",
   "metadata": {},
   "source": [
    "### Set the NUM_HOPS parameter\n",
    "\n",
    "&#x26A0; Note that this should be accompanied by repopulating the database with the correct (node, edge) CSV file pair."
   ]
  },
  {
   "cell_type": "code",
   "execution_count": 2,
   "metadata": {},
   "outputs": [],
   "source": [
    "# change this for each run (1, 2, 3)\n",
    "NUM_HOPS = 1"
   ]
  },
  {
   "cell_type": "code",
   "execution_count": 3,
   "metadata": {},
   "outputs": [],
   "source": [
    "DATA_DIR = \"../data\"\n",
    "PRED_FILEPATH_TEMPLATE = os.path.join(\n",
    "    DATA_DIR, \"louvain-preds-g{:d}.tsv\")\n",
    "NEO4J_CONN_URL = \"bolt://localhost:7687\""
   ]
  },
  {
   "cell_type": "code",
   "execution_count": 4,
   "metadata": {},
   "outputs": [],
   "source": [
    "graph = py2neo.Graph(NEO4J_CONN_URL, auth=(\"neo4j\", \"graph\"))"
   ]
  },
  {
   "cell_type": "markdown",
   "metadata": {},
   "source": [
    "### Execute Louvain Community Detection"
   ]
  },
  {
   "cell_type": "code",
   "execution_count": 5,
   "metadata": {},
   "outputs": [],
   "source": [
    "query = \"\"\"\n",
    "    CALL algo.louvain.stream('Document', 'PROB', \n",
    "        {weightProperty: 'gen_prob'})\n",
    "    YIELD nodeId, community\n",
    "    RETURN algo.asNode(nodeId).doc_id AS doc_id, \n",
    "           algo.asNode(nodeId).category AS label, \n",
    "           community AS pred\n",
    "    ORDER BY pred DESC\n",
    "\"\"\"\n",
    "results = graph.run(query).data()"
   ]
  },
  {
   "cell_type": "markdown",
   "metadata": {},
   "source": [
    "### Collect Predictions\n",
    "\n",
    "The community value returned by the Louvain community detection algorithm is used as the cluster id."
   ]
  },
  {
   "cell_type": "code",
   "execution_count": 6,
   "metadata": {},
   "outputs": [
    {
     "name": "stdout",
     "output_type": "stream",
     "text": [
      "0 document predictions extracted\n",
      "1000 document predictions extracted\n",
      "2000 document predictions extracted\n",
      "3000 document predictions extracted\n",
      "4000 document predictions extracted\n",
      "5000 document predictions extracted\n",
      "6000 document predictions extracted\n",
      "7000 document predictions extracted\n",
      "8000 document predictions extracted\n",
      "9000 document predictions extracted\n",
      "10000 document predictions extracted\n",
      "11000 document predictions extracted\n",
      "12000 document predictions extracted\n",
      "13000 document predictions extracted\n",
      "14000 document predictions extracted\n",
      "15000 document predictions extracted\n",
      "16000 document predictions extracted\n",
      "17000 document predictions extracted\n",
      "18000 document predictions extracted\n",
      "18810 document predictions extracted, COMPLETE\n",
      "category counts\n",
      "[(0, 1295), (1, 2560), (2, 1001), (3, 1119), (4, 915), (5, 1096), (6, 3304), (7, 2327), (8, 2087), (9, 2560), (10, 504), (11, 24), (12, 1), (13, 1), (14, 10), (15, 1), (16, 1), (17, 1), (18, 1), (19, 1), (20, 1)]\n"
     ]
    }
   ],
   "source": [
    "fpred = open(PRED_FILEPATH_TEMPLATE.format(NUM_HOPS), \"w\")\n",
    "num_results = 0\n",
    "pred_category_counts = collections.Counter()\n",
    "for result in results:\n",
    "    if num_results % 1000 == 0:\n",
    "        print(\"{:d} document predictions extracted\".format(num_results))\n",
    "    doc_id = result[\"doc_id\"]\n",
    "    label = result[\"label\"]\n",
    "    pred = result[\"pred\"]\n",
    "    pred_category_counts[pred] += 1\n",
    "    fpred.write(\"{:s}\\t{:s}\\t{:d}\\n\".format(doc_id, label, pred))\n",
    "    num_results += 1\n",
    "\n",
    "print(\"{:d} document predictions extracted, COMPLETE\".format(num_results))\n",
    "print(\"category counts\")\n",
    "print(sorted(pred_category_counts.most_common(len(pred_category_counts)),\n",
    "    key=operator.itemgetter(0)))\n",
    "\n",
    "fpred.close()"
   ]
  },
  {
   "cell_type": "code",
   "execution_count": 7,
   "metadata": {},
   "outputs": [
    {
     "data": {
      "text/html": [
       "<div>\n",
       "<style scoped>\n",
       "    .dataframe tbody tr th:only-of-type {\n",
       "        vertical-align: middle;\n",
       "    }\n",
       "\n",
       "    .dataframe tbody tr th {\n",
       "        vertical-align: top;\n",
       "    }\n",
       "\n",
       "    .dataframe thead th {\n",
       "        text-align: right;\n",
       "    }\n",
       "</style>\n",
       "<table border=\"1\" class=\"dataframe\">\n",
       "  <thead>\n",
       "    <tr style=\"text-align: right;\">\n",
       "      <th></th>\n",
       "      <th>doc_id</th>\n",
       "      <th>label</th>\n",
       "      <th>prediction</th>\n",
       "    </tr>\n",
       "  </thead>\n",
       "  <tbody>\n",
       "    <tr>\n",
       "      <td>0</td>\n",
       "      <td>1-19-83677</td>\n",
       "      <td>talk.religion.misc</td>\n",
       "      <td>20</td>\n",
       "    </tr>\n",
       "    <tr>\n",
       "      <td>1</td>\n",
       "      <td>1-18-178690</td>\n",
       "      <td>talk.politics.misc</td>\n",
       "      <td>19</td>\n",
       "    </tr>\n",
       "    <tr>\n",
       "      <td>2</td>\n",
       "      <td>1-9-104905</td>\n",
       "      <td>rec.sport.baseball</td>\n",
       "      <td>18</td>\n",
       "    </tr>\n",
       "    <tr>\n",
       "      <td>3</td>\n",
       "      <td>1-9-104547</td>\n",
       "      <td>rec.sport.baseball</td>\n",
       "      <td>17</td>\n",
       "    </tr>\n",
       "    <tr>\n",
       "      <td>4</td>\n",
       "      <td>1-6-76496</td>\n",
       "      <td>misc.forsale</td>\n",
       "      <td>16</td>\n",
       "    </tr>\n",
       "  </tbody>\n",
       "</table>\n",
       "</div>"
      ],
      "text/plain": [
       "        doc_id               label  prediction\n",
       "0   1-19-83677  talk.religion.misc          20\n",
       "1  1-18-178690  talk.politics.misc          19\n",
       "2   1-9-104905  rec.sport.baseball          18\n",
       "3   1-9-104547  rec.sport.baseball          17\n",
       "4    1-6-76496        misc.forsale          16"
      ]
     },
     "execution_count": 7,
     "metadata": {},
     "output_type": "execute_result"
    }
   ],
   "source": [
    "pred_df = pd.read_csv(PRED_FILEPATH_TEMPLATE.format(NUM_HOPS), \n",
    "                      delimiter=\"\\t\",\n",
    "                      names=[\"doc_id\", \"label\", \"prediction\"])\n",
    "pred_df.head()"
   ]
  },
  {
   "cell_type": "code",
   "execution_count": null,
   "metadata": {},
   "outputs": [],
   "source": []
  }
 ],
 "metadata": {
  "kernelspec": {
   "display_name": "Python 3",
   "language": "python",
   "name": "python3"
  },
  "language_info": {
   "codemirror_mode": {
    "name": "ipython",
    "version": 3
   },
   "file_extension": ".py",
   "mimetype": "text/x-python",
   "name": "python",
   "nbconvert_exporter": "python",
   "pygments_lexer": "ipython3",
   "version": "3.6.7"
  }
 },
 "nbformat": 4,
 "nbformat_minor": 2
}
