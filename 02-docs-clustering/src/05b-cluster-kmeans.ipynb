{
 "cells": [
  {
   "cell_type": "markdown",
   "metadata": {},
   "source": [
    "## Cluster using KMeans\n",
    "\n",
    "Not technically a graph method, but included here for evaluation purposes.\n",
    "\n",
    "Each document is represented by its row in the appropriate generation probabilities matrix, as a sparse vector of generation probabilities q(d<sub>i</sub>|d<sub>j</sub>).\n",
    "\n",
    "We use `MiniBatchKMeans` from the scikit-learn library to generate clusters, setting k=20 (since this is the 20 newsgroups dataset). The `MiniBatchKMeans` is preferred because of the size of our dataset (`KMeans` is generally safe to use for dataset sizes < 10k, but `MiniBatchKMeans` recommended for larger datasets).\n",
    "\n",
    "**NOTE:** We will run this notebook multiple times for different values of `NUM_HOPS` (and once more for generating baseline K-Means clusters for the original TD Matrix)."
   ]
  },
  {
   "cell_type": "code",
   "execution_count": 1,
   "metadata": {},
   "outputs": [],
   "source": [
    "import numpy as np\n",
    "import os\n",
    "import pandas as pd\n",
    "\n",
    "from scipy.sparse import load_npz\n",
    "from sklearn.cluster import MiniBatchKMeans"
   ]
  },
  {
   "cell_type": "markdown",
   "metadata": {},
   "source": [
    "### Set NUM_HOPS parameter\n",
    "\n",
    "We will run this notebook multiple times for different values of the `NUM_HOPS` parameter below."
   ]
  },
  {
   "cell_type": "code",
   "execution_count": 2,
   "metadata": {},
   "outputs": [],
   "source": [
    "NUM_HOPS = 1"
   ]
  },
  {
   "cell_type": "markdown",
   "metadata": {},
   "source": [
    "### Constants"
   ]
  },
  {
   "cell_type": "code",
   "execution_count": 3,
   "metadata": {},
   "outputs": [],
   "source": [
    "NUM_CLUSTERS = 20  # dataset is 20 newsgroups\n",
    "\n",
    "DATA_DIR = \"../data\"\n",
    "LABEL_FILEPATH = os.path.join(DATA_DIR, \"labels.tsv\")\n",
    "\n",
    "PREDS_FILEPATH_TEMPLATE = os.path.join(DATA_DIR, \"kmeans-preds-g{:d}.tsv\")\n",
    "GENPROBS_FILEPATH_TEMPLATE = os.path.join(DATA_DIR, \"genprobs_{:d}.npy\")\n",
    "# # reusing for predictions for TD Matrix\n",
    "# PREDS_FILEPATH_TEMPLATE = os.path.join(DATA_DIR, \"kmeans-preds-td.tsv\")\n",
    "# GENPROBS_FILEPATH_TEMPLATE = os.path.join(DATA_DIR, \"tdmatrix.npz\")"
   ]
  },
  {
   "cell_type": "markdown",
   "metadata": {},
   "source": [
    "### Generate doc_id mappings\n",
    "\n",
    "Generating mappings to map the generated `doc_id` values to row IDs in the generation probability matrix."
   ]
  },
  {
   "cell_type": "code",
   "execution_count": 4,
   "metadata": {},
   "outputs": [],
   "source": [
    "row2docid_labels = {}\n",
    "flabels = open(LABEL_FILEPATH, \"r\")\n",
    "num_nodes = 0\n",
    "for line in flabels:\n",
    "    doc_id, label = line.strip().split('\\t')\n",
    "    row2docid_labels[num_nodes] = (doc_id, label)\n",
    "    num_nodes += 1\n",
    "    \n",
    "flabels.close()"
   ]
  },
  {
   "cell_type": "markdown",
   "metadata": {},
   "source": [
    "### Load Data"
   ]
  },
  {
   "cell_type": "code",
   "execution_count": 5,
   "metadata": {},
   "outputs": [],
   "source": [
    "X = np.load(GENPROBS_FILEPATH_TEMPLATE.format(NUM_HOPS))\n",
    "# # reusing for predictions for TD Matrix\n",
    "# X = load_npz(GENPROBS_FILEPATH_TEMPLATE)"
   ]
  },
  {
   "cell_type": "markdown",
   "metadata": {},
   "source": [
    "### KMeans Clustering"
   ]
  },
  {
   "cell_type": "code",
   "execution_count": 6,
   "metadata": {},
   "outputs": [],
   "source": [
    "kmeans = MiniBatchKMeans(n_clusters=NUM_CLUSTERS, random_state=42)\n",
    "kmeans.fit(X)\n",
    "preds = kmeans.predict(X)"
   ]
  },
  {
   "cell_type": "markdown",
   "metadata": {},
   "source": [
    "### Write out predictions"
   ]
  },
  {
   "cell_type": "code",
   "execution_count": 7,
   "metadata": {},
   "outputs": [
    {
     "name": "stdout",
     "output_type": "stream",
     "text": [
      "0 rows predicted\n",
      "1000 rows predicted\n",
      "2000 rows predicted\n",
      "3000 rows predicted\n",
      "4000 rows predicted\n",
      "5000 rows predicted\n",
      "6000 rows predicted\n",
      "7000 rows predicted\n",
      "8000 rows predicted\n",
      "9000 rows predicted\n",
      "10000 rows predicted\n",
      "11000 rows predicted\n",
      "12000 rows predicted\n",
      "13000 rows predicted\n",
      "14000 rows predicted\n",
      "15000 rows predicted\n",
      "16000 rows predicted\n",
      "17000 rows predicted\n",
      "18000 rows predicted\n",
      "18810 rows predicted, COMPLETE\n"
     ]
    }
   ],
   "source": [
    "num_predicted = 0\n",
    "fpreds = open(PREDS_FILEPATH_TEMPLATE.format(NUM_HOPS), \"w\")\n",
    "for row_id, pred in enumerate(preds):\n",
    "    if num_predicted % 1000 == 0:\n",
    "        print(\"{:d} rows predicted\".format(num_predicted))\n",
    "    doc_id, label = row2docid_labels[row_id]\n",
    "    fpreds.write(\"{:s}\\t{:s}\\t{:d}\\n\".format(doc_id, label, pred))\n",
    "    num_predicted += 1\n",
    "\n",
    "print(\"{:d} rows predicted, COMPLETE\".format(num_predicted))\n",
    "fpreds.close()"
   ]
  },
  {
   "cell_type": "code",
   "execution_count": 8,
   "metadata": {},
   "outputs": [
    {
     "data": {
      "text/html": [
       "<div>\n",
       "<style scoped>\n",
       "    .dataframe tbody tr th:only-of-type {\n",
       "        vertical-align: middle;\n",
       "    }\n",
       "\n",
       "    .dataframe tbody tr th {\n",
       "        vertical-align: top;\n",
       "    }\n",
       "\n",
       "    .dataframe thead th {\n",
       "        text-align: right;\n",
       "    }\n",
       "</style>\n",
       "<table border=\"1\" class=\"dataframe\">\n",
       "  <thead>\n",
       "    <tr style=\"text-align: right;\">\n",
       "      <th></th>\n",
       "      <th>doc_id</th>\n",
       "      <th>label</th>\n",
       "      <th>prediction</th>\n",
       "    </tr>\n",
       "  </thead>\n",
       "  <tbody>\n",
       "    <tr>\n",
       "      <td>0</td>\n",
       "      <td>0-0-54241</td>\n",
       "      <td>alt.atheism</td>\n",
       "      <td>8</td>\n",
       "    </tr>\n",
       "    <tr>\n",
       "      <td>1</td>\n",
       "      <td>0-0-54242</td>\n",
       "      <td>alt.atheism</td>\n",
       "      <td>8</td>\n",
       "    </tr>\n",
       "    <tr>\n",
       "      <td>2</td>\n",
       "      <td>0-0-54243</td>\n",
       "      <td>alt.atheism</td>\n",
       "      <td>8</td>\n",
       "    </tr>\n",
       "    <tr>\n",
       "      <td>3</td>\n",
       "      <td>0-0-54244</td>\n",
       "      <td>alt.atheism</td>\n",
       "      <td>8</td>\n",
       "    </tr>\n",
       "    <tr>\n",
       "      <td>4</td>\n",
       "      <td>0-0-54245</td>\n",
       "      <td>alt.atheism</td>\n",
       "      <td>8</td>\n",
       "    </tr>\n",
       "  </tbody>\n",
       "</table>\n",
       "</div>"
      ],
      "text/plain": [
       "      doc_id        label  prediction\n",
       "0  0-0-54241  alt.atheism           8\n",
       "1  0-0-54242  alt.atheism           8\n",
       "2  0-0-54243  alt.atheism           8\n",
       "3  0-0-54244  alt.atheism           8\n",
       "4  0-0-54245  alt.atheism           8"
      ]
     },
     "execution_count": 8,
     "metadata": {},
     "output_type": "execute_result"
    }
   ],
   "source": [
    "pred_df = pd.read_csv(PREDS_FILEPATH_TEMPLATE.format(NUM_HOPS), \n",
    "                      delimiter=\"\\t\",\n",
    "                      names=[\"doc_id\", \"label\", \"prediction\"])\n",
    "pred_df.head()"
   ]
  },
  {
   "cell_type": "code",
   "execution_count": null,
   "metadata": {},
   "outputs": [],
   "source": []
  }
 ],
 "metadata": {
  "kernelspec": {
   "display_name": "Python 3",
   "language": "python",
   "name": "python3"
  },
  "language_info": {
   "codemirror_mode": {
    "name": "ipython",
    "version": 3
   },
   "file_extension": ".py",
   "mimetype": "text/x-python",
   "name": "python",
   "nbconvert_exporter": "python",
   "pygments_lexer": "ipython3",
   "version": "3.6.7"
  }
 },
 "nbformat": 4,
 "nbformat_minor": 2
}
