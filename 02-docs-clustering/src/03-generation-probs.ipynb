{
 "cells": [
  {
   "cell_type": "markdown",
   "metadata": {},
   "source": [
    "## Generation Probabilities Matrix\n",
    "\n",
    "We will do random walks from each document, using the graph represented by the sparsified Similarity Matrix.\n",
    "\n",
    "Generation probability from document i to document j is an approximation of semantic similarity between the two documents. We execute n random walks between the two nodes, varying the number of hops (t) from 1 to 3. The resulting generation probability q<sub>i,j</sub> is computed empirically, given a sufficiently large number of walks, from the following equation.\n",
    "\n",
    "<a href=\"https://www.codecogs.com/eqnedit.php?latex=\\fn_jvn&space;q_{ij}&space;=&space;\\frac{N(i,&space;j)}{\\sum_{x&space;\\epsilon&space;J}&space;N(i,&space;x)}\" target=\"_blank\"><img src=\"https://latex.codecogs.com/gif.latex?\\fn_jvn&space;q_{ij}&space;=&space;\\frac{N(i,&space;j)}{\\sum_{x&space;\\epsilon&space;J}&space;N(i,&space;x)}\" title=\"q_{ij} = \\frac{N(i, j)}{\\sum_{x \\epsilon J} N(i, x)}\" /></a>\n",
    "\n",
    "For our purposes, we will choose the number of walks from each node as c=80 (same as our top generators constant). For t &gt; 1, since at each stage we will have to do c hops from each source, we set the number of walks as $\\sqrt[t]{c}$.\n",
    "\n",
    "Further, the generation probability is tempered by the number of hops, so documents reachable via 3 hops have lesser influence on the generation probability than documents reachable directly (i.e., via a single hop).\n",
    "\n",
    "<a href=\"https://www.codecogs.com/eqnedit.php?latex=\\fn_jvn&space;gen^t(d_i|d_j)&space;=&space;\\frac{\\sum_{s=1}^t&space;q_{ij}}{t}\" target=\"_blank\"><img src=\"https://latex.codecogs.com/png.latex?\\fn_jvn&space;gen^t(d_i|d_j)&space;=&space;\\frac{\\sum_{s=1}^t&space;q_{ij}}{t}\" title=\"gen^t(d_i|d_j) = \\frac{\\sum_{s=1}^t q_{ij}}{t}\" /></a>\n"
   ]
  },
  {
   "cell_type": "code",
   "execution_count": 1,
   "metadata": {},
   "outputs": [],
   "source": [
    "import numpy as np\n",
    "import os"
   ]
  },
  {
   "cell_type": "code",
   "execution_count": 2,
   "metadata": {},
   "outputs": [],
   "source": [
    "DATA_DIR = \"../data\"\n",
    "SIM_MATRIX_PATH = os.path.join(DATA_DIR, \"cosim.npy\")\n",
    "NUM_TOP_GENERATORS = 80\n",
    "\n",
    "GEN_MATRIX_PATH_TEMPLATE = os.path.join(DATA_DIR, \"genprobs_{:d}.npy\")"
   ]
  },
  {
   "cell_type": "markdown",
   "metadata": {},
   "source": [
    "### Generating Random Walks\n",
    "\n",
    "We want to generate random walks of specific length, starting from each node in the graph. The walks would choose from a list of reachable nodes, where the reachability is dictated by transition probabilities.\n",
    "\n",
    "Neither Spark Graphframes and Neo4j offer a built-in algorithm to construct random walks on weighted graphs. It is possible to construct a naive version which will iterate over paths starting from each node in the graph. \n",
    "\n",
    "However, constructing random walk directly on the adjacency matrix using the function below gives much better performance. Given an array of source nodes, the function below will construct paths of length 1 starting with each source node in the input.\n",
    "\n",
    "Path lengths &gt; 1 can be constructed by running this repeatedly in a loop, as shown below."
   ]
  },
  {
   "cell_type": "code",
   "execution_count": 3,
   "metadata": {},
   "outputs": [
    {
     "name": "stdout",
     "output_type": "stream",
     "text": [
      "inputs: [[0], [1], [2], [3], [4], [5], [6], [7], [8], [9]]\n",
      "outputs: [[0, 8, 9], [0, 8, 4], [0, 3, 9], [0, 3, 5], [1, 9, 5], [1, 9, 1], [1, 9, 1], [1, 9, 5], [2, 3, 5], [2, 3, 9], [2, 3, 5], [2, 3, 9], [3, 5, 4], [3, 5, 4], [3, 9, 1], [3, 9, 1], [4, 4, 0], [4, 4, 4], [4, 4, 0], [4, 4, 4], [5, 4, 0], [5, 4, 0], [5, 4, 0], [5, 4, 4], [6, 2, 3], [6, 2, 3], [6, 2, 3], [6, 2, 3], [7, 5, 4], [7, 5, 4], [7, 6, 2], [7, 6, 2], [8, 4, 0], [8, 4, 0], [8, 4, 4], [8, 4, 4], [9, 5, 4], [9, 5, 4], [9, 1, 3], [9, 1, 3]]\n"
     ]
    }
   ],
   "source": [
    "def random_walk(paths, id_matrix, prob_matrix, c, num_hops):\n",
    "    input_paths = []\n",
    "    input_paths.extend(paths)\n",
    "    for i in range(num_hops):\n",
    "        output_paths = []\n",
    "        num_choices = int(np.round(np.power(c, 1/num_hops)))\n",
    "        for path in input_paths:\n",
    "            # print(\"path:\", path)\n",
    "            source = path[-1]\n",
    "            if np.sum(prob_matrix[source]) == 0:\n",
    "                # skip this path, nothing is reachable from node\n",
    "                continue\n",
    "            try:\n",
    "                choices = np.random.choice(id_matrix[source, :], \n",
    "                    size=num_choices, \n",
    "                    p=prob_matrix[source, :])\n",
    "            except ValueError as e:\n",
    "                print(\"source:\", source)\n",
    "                print(prob_matrix[source, :].tolist())\n",
    "                raise e\n",
    "            for choice in choices:\n",
    "                output_path = []\n",
    "                output_path.extend(path)\n",
    "                output_path.append(choice)\n",
    "                output_paths.append(output_path)\n",
    "        input_paths = []\n",
    "        input_paths.extend(output_paths)\n",
    "    return output_paths\n",
    "\n",
    "\n",
    "# test\n",
    "M = np.zeros((10, 10))\n",
    "for i in range(30):\n",
    "    i = np.random.randint(0, high=10)\n",
    "    j = np.random.randint(0, high=10)\n",
    "    M[i, j] = float(np.random.randint(0, high=10))\n",
    "M_rowsum = np.sum(M, axis=1).reshape(M.shape[0], 1)\n",
    "M_rowsum[M_rowsum == 0] = 0.1\n",
    "M_prob = M / M_rowsum\n",
    "\n",
    "M_id = np.array([np.arange(10)] * M.shape[0]).reshape(M.shape)\n",
    "\n",
    "input_paths = [[x] for x in np.arange(10)]\n",
    "output_paths = random_walk(input_paths, M_id, M_prob, 5, 2)\n",
    "print(\"inputs:\", input_paths)\n",
    "print(\"outputs:\", output_paths)"
   ]
  },
  {
   "cell_type": "markdown",
   "metadata": {},
   "source": [
    "### Generation Probability Matrix\n",
    "\n",
    "The set of random walks generated is used to compute the generation probability matrix. For multi-hop walks, we compute empirical probabilities and apply the path length discount in-place in the function below."
   ]
  },
  {
   "cell_type": "code",
   "execution_count": 4,
   "metadata": {},
   "outputs": [
    {
     "name": "stdout",
     "output_type": "stream",
     "text": [
      "[[0.    0.    0.    0.25  0.125 0.125 0.    0.    0.25  0.25 ]\n",
      " [0.    0.25  0.    0.    0.    0.25  0.    0.    0.    0.5  ]\n",
      " [0.    0.    0.    0.5   0.    0.25  0.    0.    0.    0.25 ]\n",
      " [0.    0.25  0.    0.    0.25  0.25  0.    0.    0.    0.25 ]\n",
      " [0.25  0.    0.    0.    0.75  0.    0.    0.    0.    0.   ]\n",
      " [0.375 0.    0.    0.    0.625 0.    0.    0.    0.    0.   ]\n",
      " [0.    0.    0.5   0.5   0.    0.    0.    0.    0.    0.   ]\n",
      " [0.    0.    0.25  0.    0.25  0.25  0.25  0.    0.    0.   ]\n",
      " [0.25  0.    0.    0.    0.75  0.    0.    0.    0.    0.   ]\n",
      " [0.    0.25  0.    0.25  0.25  0.25  0.    0.    0.    0.   ]]\n"
     ]
    }
   ],
   "source": [
    "def compute_generation_probability(paths, num_nodes, num_hops):\n",
    "    G = np.zeros((num_nodes, num_nodes))\n",
    "    for i in range(num_hops):\n",
    "        for path in paths:\n",
    "            source = path[0]\n",
    "            target = path[i+1]\n",
    "            G[source, target] += (1 / num_hops)\n",
    "    G_rowsum = np.sum(G, axis=1).reshape(G.shape[0], 1)\n",
    "    G_rowsum[G_rowsum == 0] = 1e-19\n",
    "    return G / G_rowsum\n",
    "\n",
    "# test\n",
    "Q = compute_generation_probability(output_paths, M.shape[0], 2)\n",
    "print(Q)"
   ]
  },
  {
   "cell_type": "markdown",
   "metadata": {},
   "source": [
    "### Random Walk on Document Graph\n",
    "\n",
    "We retrieve the transition probability matrix of sparsified cosine similarities S and construct an ID-matrix from it (this is only for ease of generating path sequences). We then construct the initial set of paths (length 0) consisting of all the source nodes."
   ]
  },
  {
   "cell_type": "code",
   "execution_count": 5,
   "metadata": {},
   "outputs": [
    {
     "name": "stdout",
     "output_type": "stream",
     "text": [
      "(18810, 18810) (18810, 18810)\n"
     ]
    }
   ],
   "source": [
    "prob_matrix = np.load(SIM_MATRIX_PATH)\n",
    "np.nan_to_num(prob_matrix, copy=False)\n",
    "\n",
    "id_matrix = (np.concatenate(\n",
    "    [np.arange(prob_matrix.shape[1])] * prob_matrix.shape[0])\n",
    "    .reshape(prob_matrix.shape))\n",
    "\n",
    "print(prob_matrix.shape, id_matrix.shape)"
   ]
  },
  {
   "cell_type": "code",
   "execution_count": 6,
   "metadata": {},
   "outputs": [
    {
     "name": "stdout",
     "output_type": "stream",
     "text": [
      "number of input paths: 18810\n"
     ]
    }
   ],
   "source": [
    "input_paths = [[x] for x in np.arange(id_matrix.shape[0])]\n",
    "print(\"number of input paths:\", len(input_paths))"
   ]
  },
  {
   "cell_type": "markdown",
   "metadata": {},
   "source": [
    "### Random Walk and Gen.Probs for t=1"
   ]
  },
  {
   "cell_type": "code",
   "execution_count": 7,
   "metadata": {},
   "outputs": [
    {
     "name": "stdout",
     "output_type": "stream",
     "text": [
      "number of output paths of length 1: 1504160\n",
      "(18810, 18810)\n"
     ]
    }
   ],
   "source": [
    "output_paths_1 = random_walk(\n",
    "    input_paths, id_matrix, prob_matrix, NUM_TOP_GENERATORS, 1)\n",
    "print(\"number of output paths of length 1:\", len(output_paths_1))\n",
    "gen_probs_1 = compute_generation_probability(\n",
    "    output_paths_1, id_matrix.shape[0], 1)\n",
    "print(gen_probs_1.shape)\n",
    "np.save(GEN_MATRIX_PATH_TEMPLATE.format(1), gen_probs_1)"
   ]
  },
  {
   "cell_type": "markdown",
   "metadata": {},
   "source": [
    "### Random Walk and Gen.Probs for t=2"
   ]
  },
  {
   "cell_type": "code",
   "execution_count": 8,
   "metadata": {},
   "outputs": [
    {
     "name": "stdout",
     "output_type": "stream",
     "text": [
      "number of output paths of length 2: 1522962\n",
      "(18810, 18810)\n"
     ]
    }
   ],
   "source": [
    "output_paths_2 = random_walk(\n",
    "    input_paths, id_matrix, prob_matrix, NUM_TOP_GENERATORS, 2)\n",
    "print(\"number of output paths of length 2:\", len(output_paths_2))\n",
    "gen_probs_2 = compute_generation_probability(\n",
    "    output_paths_2, id_matrix.shape[0], 2)\n",
    "print(gen_probs_2.shape)\n",
    "np.save(GEN_MATRIX_PATH_TEMPLATE.format(2), gen_probs_2)"
   ]
  },
  {
   "cell_type": "markdown",
   "metadata": {},
   "source": [
    "### Random Walk and Gen.Probs for t=3"
   ]
  },
  {
   "cell_type": "code",
   "execution_count": 9,
   "metadata": {},
   "outputs": [
    {
     "name": "stdout",
     "output_type": "stream",
     "text": [
      "number of output paths of length 3: 1203328\n",
      "(18810, 18810)\n"
     ]
    }
   ],
   "source": [
    "output_paths_3 = random_walk(\n",
    "    input_paths, id_matrix, prob_matrix, NUM_TOP_GENERATORS, 3)\n",
    "print(\"number of output paths of length 3:\", len(output_paths_3))\n",
    "gen_probs_3 = compute_generation_probability(\n",
    "    output_paths_3, id_matrix.shape[0], 3)\n",
    "print(gen_probs_3.shape)\n",
    "np.save(GEN_MATRIX_PATH_TEMPLATE.format(3), gen_probs_3)"
   ]
  }
 ],
 "metadata": {
  "kernelspec": {
   "display_name": "Python 3",
   "language": "python",
   "name": "python3"
  },
  "language_info": {
   "codemirror_mode": {
    "name": "ipython",
    "version": 3
   },
   "file_extension": ".py",
   "mimetype": "text/x-python",
   "name": "python",
   "nbconvert_exporter": "python",
   "pygments_lexer": "ipython3",
   "version": "3.6.8"
  }
 },
 "nbformat": 4,
 "nbformat_minor": 2
}
